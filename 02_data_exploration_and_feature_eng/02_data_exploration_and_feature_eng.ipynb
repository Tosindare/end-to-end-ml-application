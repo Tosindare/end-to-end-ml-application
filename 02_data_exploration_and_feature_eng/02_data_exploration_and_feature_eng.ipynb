{
 "cells": [
  {
   "cell_type": "markdown",
   "metadata": {},
   "source": [
    "<h1>Copy raw data in your S3 bucket</h1>"
   ]
  },
  {
   "cell_type": "code",
   "execution_count": 1,
   "metadata": {},
   "outputs": [
    {
     "name": "stdout",
     "output_type": "stream",
     "text": [
      "eu-west-1\n",
      "arn:aws:iam::041631420165:role/service-role/AmazonSageMaker-ExecutionRole-20180507T143636\n",
      "endtoendml-workshop-ad82\n"
     ]
    }
   ],
   "source": [
    "import boto3\n",
    "import sagemaker\n",
    "import time\n",
    "\n",
    "\n",
    "role = sagemaker.get_execution_role()\n",
    "region = boto3.Session().region_name\n",
    "\n",
    "print(region)\n",
    "print(role)\n",
    " \n",
    "# Replace initials placeholder.\n",
    "#initials = '[initials]'\n",
    "initials = 'ad82'\n",
    "bucket_name = 'endtoendml-workshop-{0}'.format(initials)\n",
    "prefix = '02'\n",
    "\n",
    "print(bucket_name)\n",
    "\n",
    "s3 = boto3.resource('s3')\n",
    "\n",
    "copy_source = {\n",
    "    'Bucket': 'gianpo-public',\n",
    "    'Key': 'windturbine_raw_data.csv'\n",
    "}\n",
    "\n",
    "file_name = 'windturbine_raw_data.csv'\n",
    "file_key = '{0}/data/{1}'.format(prefix, file_name)\n",
    "s3.Bucket(bucket_name).copy(copy_source, file_key)\n",
    "#s3.Bucket(bucket_name).download_file(file_key, file_name)"
   ]
  },
  {
   "cell_type": "markdown",
   "metadata": {},
   "source": [
    "<h1>Create a Glue Crawler to infer schema for your data</h1>\n",
    "\n",
    "NOTE: create Glue role in module 01\n",
    "\n",
    "NOTE: SageMaker role has to have permissions for Glue Full Access"
   ]
  },
  {
   "cell_type": "code",
   "execution_count": 2,
   "metadata": {},
   "outputs": [],
   "source": [
    "glue_client = boto3.client('glue')\n",
    "response = glue_client.create_database(DatabaseInput={'Name': 'endtoendml-db'})\n",
    "response = glue_client.get_database(Name='endtoendml-db')\n",
    "response\n",
    "assert response['Database']['Name'] == 'endtoendml-db'\n"
   ]
  },
  {
   "cell_type": "code",
   "execution_count": 3,
   "metadata": {},
   "outputs": [],
   "source": [
    "response = glue_client.create_crawler(\n",
    "    Name='endtoendml-crawler',\n",
    "    Role='AWSGlueServiceRole', ## VEDI NOTA SU!!\n",
    "    DatabaseName='endtoendml-db',\n",
    "    Targets={'S3Targets': [{'Path': '{0}/{1}/data/'.format(bucket_name, prefix)}]}\n",
    ")"
   ]
  },
  {
   "cell_type": "code",
   "execution_count": 4,
   "metadata": {},
   "outputs": [
    {
     "data": {
      "text/plain": [
       "{'ResponseMetadata': {'RequestId': 'bc8568ff-c81c-11e9-9679-331c613291e2',\n",
       "  'HTTPStatusCode': 200,\n",
       "  'HTTPHeaders': {'date': 'Mon, 26 Aug 2019 16:15:47 GMT',\n",
       "   'content-type': 'application/x-amz-json-1.1',\n",
       "   'content-length': '2',\n",
       "   'connection': 'keep-alive',\n",
       "   'x-amzn-requestid': 'bc8568ff-c81c-11e9-9679-331c613291e2'},\n",
       "  'RetryAttempts': 0}}"
      ]
     },
     "execution_count": 4,
     "metadata": {},
     "output_type": "execute_result"
    }
   ],
   "source": [
    "glue_client.start_crawler(Name='endtoendml-crawler')"
   ]
  },
  {
   "cell_type": "code",
   "execution_count": 5,
   "metadata": {},
   "outputs": [
    {
     "data": {
      "text/plain": [
       "{'CrawlerMetricsList': [{'CrawlerName': 'endtoendml-crawler',\n",
       "   'TimeLeftSeconds': 0.0,\n",
       "   'StillEstimating': True,\n",
       "   'LastRuntimeSeconds': 0.0,\n",
       "   'MedianRuntimeSeconds': 0.0,\n",
       "   'TablesCreated': 0,\n",
       "   'TablesUpdated': 0,\n",
       "   'TablesDeleted': 0}],\n",
       " 'ResponseMetadata': {'RequestId': 'c4d8e989-c81c-11e9-ae01-4b6d9fe8ec5c',\n",
       "  'HTTPStatusCode': 200,\n",
       "  'HTTPHeaders': {'date': 'Mon, 26 Aug 2019 16:15:49 GMT',\n",
       "   'content-type': 'application/x-amz-json-1.1',\n",
       "   'content-length': '212',\n",
       "   'connection': 'keep-alive',\n",
       "   'x-amzn-requestid': 'c4d8e989-c81c-11e9-ae01-4b6d9fe8ec5c'},\n",
       "  'RetryAttempts': 0}}"
      ]
     },
     "execution_count": 5,
     "metadata": {},
     "output_type": "execute_result"
    }
   ],
   "source": [
    "glue_client.get_crawler_metrics(CrawlerNameList=['endtoendml-crawler'])"
   ]
  },
  {
   "cell_type": "code",
   "execution_count": 6,
   "metadata": {},
   "outputs": [],
   "source": [
    "while glue_client.get_crawler_metrics(CrawlerNameList=['endtoendml-crawler'])['CrawlerMetricsList'][0]['TablesCreated'] == 0:\n",
    "    time.sleep(5)\n",
    "    \n",
    "assert glue_client.get_crawler_metrics(CrawlerNameList=['endtoendml-crawler'])['CrawlerMetricsList'][0]['TablesCreated'] == 1\n"
   ]
  },
  {
   "cell_type": "code",
   "execution_count": 7,
   "metadata": {},
   "outputs": [
    {
     "name": "stdout",
     "output_type": "stream",
     "text": [
      "Requirement already satisfied: pyathena in /home/ec2-user/anaconda3/envs/python3/lib/python3.6/site-packages (1.7.1)\n",
      "Requirement already satisfied: tenacity>=4.1.0 in /home/ec2-user/anaconda3/envs/python3/lib/python3.6/site-packages (from pyathena) (5.1.1)\n",
      "Requirement already satisfied: botocore>=1.5.52 in /home/ec2-user/anaconda3/envs/python3/lib/python3.6/site-packages (from pyathena) (1.12.207)\n",
      "Requirement already satisfied: boto3>=1.4.4 in /home/ec2-user/anaconda3/envs/python3/lib/python3.6/site-packages (from pyathena) (1.9.207)\n",
      "Requirement already satisfied: future in /home/ec2-user/anaconda3/envs/python3/lib/python3.6/site-packages (from pyathena) (0.17.1)\n",
      "Requirement already satisfied: six>=1.9.0 in /home/ec2-user/anaconda3/envs/python3/lib/python3.6/site-packages (from tenacity>=4.1.0->pyathena) (1.11.0)\n",
      "Requirement already satisfied: python-dateutil<3.0.0,>=2.1; python_version >= \"2.7\" in /home/ec2-user/anaconda3/envs/python3/lib/python3.6/site-packages (from botocore>=1.5.52->pyathena) (2.7.3)\n",
      "Requirement already satisfied: urllib3<1.26,>=1.20; python_version >= \"3.4\" in /home/ec2-user/anaconda3/envs/python3/lib/python3.6/site-packages (from botocore>=1.5.52->pyathena) (1.23)\n",
      "Requirement already satisfied: jmespath<1.0.0,>=0.7.1 in /home/ec2-user/anaconda3/envs/python3/lib/python3.6/site-packages (from botocore>=1.5.52->pyathena) (0.9.4)\n",
      "Requirement already satisfied: docutils<0.15,>=0.10 in /home/ec2-user/anaconda3/envs/python3/lib/python3.6/site-packages (from botocore>=1.5.52->pyathena) (0.14)\n",
      "Requirement already satisfied: s3transfer<0.3.0,>=0.2.0 in /home/ec2-user/anaconda3/envs/python3/lib/python3.6/site-packages (from boto3>=1.4.4->pyathena) (0.2.1)\n",
      "\u001b[33mYou are using pip version 10.0.1, however version 19.2.2 is available.\n",
      "You should consider upgrading via the 'pip install --upgrade pip' command.\u001b[0m\n"
     ]
    }
   ],
   "source": [
    "!pip install pyathena"
   ]
  },
  {
   "cell_type": "code",
   "execution_count": 8,
   "metadata": {},
   "outputs": [
    {
     "data": {
      "text/html": [
       "<div>\n",
       "<style scoped>\n",
       "    .dataframe tbody tr th:only-of-type {\n",
       "        vertical-align: middle;\n",
       "    }\n",
       "\n",
       "    .dataframe tbody tr th {\n",
       "        vertical-align: top;\n",
       "    }\n",
       "\n",
       "    .dataframe thead th {\n",
       "        text-align: right;\n",
       "    }\n",
       "</style>\n",
       "<table border=\"1\" class=\"dataframe\">\n",
       "  <thead>\n",
       "    <tr style=\"text-align: right;\">\n",
       "      <th></th>\n",
       "      <th>col0</th>\n",
       "      <th>col1</th>\n",
       "      <th>col2</th>\n",
       "      <th>col3</th>\n",
       "      <th>col4</th>\n",
       "      <th>col5</th>\n",
       "      <th>col6</th>\n",
       "      <th>col7</th>\n",
       "      <th>col8</th>\n",
       "      <th>col9</th>\n",
       "      <th>col10</th>\n",
       "      <th>col11</th>\n",
       "    </tr>\n",
       "  </thead>\n",
       "  <tbody>\n",
       "    <tr>\n",
       "      <th>0</th>\n",
       "      <td>TID003</td>\n",
       "      <td>HAWT</td>\n",
       "      <td>80</td>\n",
       "      <td>61</td>\n",
       "      <td>NaN</td>\n",
       "      <td>34</td>\n",
       "      <td>33</td>\n",
       "      <td>26</td>\n",
       "      <td>1</td>\n",
       "      <td>77</td>\n",
       "      <td>E</td>\n",
       "      <td>no</td>\n",
       "    </tr>\n",
       "    <tr>\n",
       "      <th>1</th>\n",
       "      <td>TID010</td>\n",
       "      <td>HAWT</td>\n",
       "      <td>85</td>\n",
       "      <td>78</td>\n",
       "      <td>36.0</td>\n",
       "      <td>28</td>\n",
       "      <td>35</td>\n",
       "      <td>43</td>\n",
       "      <td>15</td>\n",
       "      <td>62</td>\n",
       "      <td>NE</td>\n",
       "      <td>yes</td>\n",
       "    </tr>\n",
       "    <tr>\n",
       "      <th>2</th>\n",
       "      <td>TID007</td>\n",
       "      <td>HAWT</td>\n",
       "      <td>47</td>\n",
       "      <td>31</td>\n",
       "      <td>31.0</td>\n",
       "      <td>23</td>\n",
       "      <td>46</td>\n",
       "      <td>62</td>\n",
       "      <td>15</td>\n",
       "      <td>32</td>\n",
       "      <td>N</td>\n",
       "      <td>no</td>\n",
       "    </tr>\n",
       "    <tr>\n",
       "      <th>3</th>\n",
       "      <td>TID008</td>\n",
       "      <td>VAWT</td>\n",
       "      <td>73</td>\n",
       "      <td>70</td>\n",
       "      <td>38.0</td>\n",
       "      <td>8</td>\n",
       "      <td>17</td>\n",
       "      <td>66</td>\n",
       "      <td>6</td>\n",
       "      <td>80</td>\n",
       "      <td>SW</td>\n",
       "      <td>yes</td>\n",
       "    </tr>\n",
       "    <tr>\n",
       "      <th>4</th>\n",
       "      <td>TID003</td>\n",
       "      <td>HAWT</td>\n",
       "      <td>16</td>\n",
       "      <td>23</td>\n",
       "      <td>46.0</td>\n",
       "      <td>9</td>\n",
       "      <td>76</td>\n",
       "      <td>53</td>\n",
       "      <td>14</td>\n",
       "      <td>29</td>\n",
       "      <td>W</td>\n",
       "      <td>no</td>\n",
       "    </tr>\n",
       "    <tr>\n",
       "      <th>5</th>\n",
       "      <td>TID001</td>\n",
       "      <td>HAWT</td>\n",
       "      <td>78</td>\n",
       "      <td>71</td>\n",
       "      <td>30.0</td>\n",
       "      <td>11</td>\n",
       "      <td>66</td>\n",
       "      <td>79</td>\n",
       "      <td>1</td>\n",
       "      <td>81</td>\n",
       "      <td>SW</td>\n",
       "      <td>no</td>\n",
       "    </tr>\n",
       "    <tr>\n",
       "      <th>6</th>\n",
       "      <td>TID009</td>\n",
       "      <td>HAWT</td>\n",
       "      <td>80</td>\n",
       "      <td>25</td>\n",
       "      <td>37.0</td>\n",
       "      <td>31</td>\n",
       "      <td>40</td>\n",
       "      <td>75</td>\n",
       "      <td>4</td>\n",
       "      <td>56</td>\n",
       "      <td>NW</td>\n",
       "      <td>no</td>\n",
       "    </tr>\n",
       "    <tr>\n",
       "      <th>7</th>\n",
       "      <td>TID002</td>\n",
       "      <td>VAWT</td>\n",
       "      <td>59</td>\n",
       "      <td>29</td>\n",
       "      <td>37.0</td>\n",
       "      <td>10</td>\n",
       "      <td>25</td>\n",
       "      <td>83</td>\n",
       "      <td>13</td>\n",
       "      <td>55</td>\n",
       "      <td>SE</td>\n",
       "      <td>no</td>\n",
       "    </tr>\n",
       "  </tbody>\n",
       "</table>\n",
       "</div>"
      ],
      "text/plain": [
       "     col0  col1  col2  col3  col4  col5  col6  col7  col8  col9 col10 col11\n",
       "0  TID003  HAWT    80    61   NaN    34    33    26     1    77     E    no\n",
       "1  TID010  HAWT    85    78  36.0    28    35    43    15    62    NE   yes\n",
       "2  TID007  HAWT    47    31  31.0    23    46    62    15    32     N    no\n",
       "3  TID008  VAWT    73    70  38.0     8    17    66     6    80    SW   yes\n",
       "4  TID003  HAWT    16    23  46.0     9    76    53    14    29     W    no\n",
       "5  TID001  HAWT    78    71  30.0    11    66    79     1    81    SW    no\n",
       "6  TID009  HAWT    80    25  37.0    31    40    75     4    56    NW    no\n",
       "7  TID002  VAWT    59    29  37.0    10    25    83    13    55    SE    no"
      ]
     },
     "execution_count": 8,
     "metadata": {},
     "output_type": "execute_result"
    }
   ],
   "source": [
    "import pyathena\n",
    "from pyathena import connect\n",
    "import pandas as pd\n",
    "\n",
    "\n",
    "conn = connect(s3_staging_dir='s3://{0}/{1}/staging/'.format(bucket_name, prefix), \n",
    "               region_name='eu-west-1')\n",
    "\n",
    "df = pd.read_sql('SELECT * FROM \"endtoendml-db\".data limit 8;', conn)\n",
    "df\n"
   ]
  },
  {
   "cell_type": "markdown",
   "metadata": {},
   "source": [
    "As you can see column names are not defined, so let's modify the AWS Glue table"
   ]
  },
  {
   "cell_type": "code",
   "execution_count": 9,
   "metadata": {},
   "outputs": [
    {
     "data": {
      "text/plain": [
       "{'Table': {'Name': 'data',\n",
       "  'DatabaseName': 'endtoendml-db',\n",
       "  'Owner': 'owner',\n",
       "  'CreateTime': datetime.datetime(2019, 8, 26, 16, 17, 2, tzinfo=tzlocal()),\n",
       "  'UpdateTime': datetime.datetime(2019, 8, 26, 16, 17, 2, tzinfo=tzlocal()),\n",
       "  'LastAccessTime': datetime.datetime(2019, 8, 26, 16, 17, 2, tzinfo=tzlocal()),\n",
       "  'Retention': 0,\n",
       "  'StorageDescriptor': {'Columns': [{'Name': 'col0', 'Type': 'string'},\n",
       "    {'Name': 'col1', 'Type': 'string'},\n",
       "    {'Name': 'col2', 'Type': 'bigint'},\n",
       "    {'Name': 'col3', 'Type': 'bigint'},\n",
       "    {'Name': 'col4', 'Type': 'double'},\n",
       "    {'Name': 'col5', 'Type': 'bigint'},\n",
       "    {'Name': 'col6', 'Type': 'bigint'},\n",
       "    {'Name': 'col7', 'Type': 'bigint'},\n",
       "    {'Name': 'col8', 'Type': 'bigint'},\n",
       "    {'Name': 'col9', 'Type': 'bigint'},\n",
       "    {'Name': 'col10', 'Type': 'string'},\n",
       "    {'Name': 'col11', 'Type': 'string'}],\n",
       "   'Location': 's3://endtoendml-workshop-ad82/02/data/',\n",
       "   'InputFormat': 'org.apache.hadoop.mapred.TextInputFormat',\n",
       "   'OutputFormat': 'org.apache.hadoop.hive.ql.io.HiveIgnoreKeyTextOutputFormat',\n",
       "   'Compressed': False,\n",
       "   'NumberOfBuckets': -1,\n",
       "   'SerdeInfo': {'SerializationLibrary': 'org.apache.hadoop.hive.serde2.lazy.LazySimpleSerDe',\n",
       "    'Parameters': {'field.delim': ','}},\n",
       "   'BucketColumns': [],\n",
       "   'SortColumns': [],\n",
       "   'Parameters': {'CrawlerSchemaDeserializerVersion': '1.0',\n",
       "    'CrawlerSchemaSerializerVersion': '1.0',\n",
       "    'UPDATED_BY_CRAWLER': 'endtoendml-crawler',\n",
       "    'areColumnsQuoted': 'false',\n",
       "    'averageRecordSize': '41',\n",
       "    'classification': 'csv',\n",
       "    'columnsOrdered': 'true',\n",
       "    'compressionType': 'none',\n",
       "    'delimiter': ',',\n",
       "    'objectCount': '1',\n",
       "    'recordCount': '1032190',\n",
       "    'sizeKey': '42319794',\n",
       "    'typeOfData': 'file'},\n",
       "   'StoredAsSubDirectories': False},\n",
       "  'PartitionKeys': [],\n",
       "  'TableType': 'EXTERNAL_TABLE',\n",
       "  'Parameters': {'CrawlerSchemaDeserializerVersion': '1.0',\n",
       "   'CrawlerSchemaSerializerVersion': '1.0',\n",
       "   'UPDATED_BY_CRAWLER': 'endtoendml-crawler',\n",
       "   'areColumnsQuoted': 'false',\n",
       "   'averageRecordSize': '41',\n",
       "   'classification': 'csv',\n",
       "   'columnsOrdered': 'true',\n",
       "   'compressionType': 'none',\n",
       "   'delimiter': ',',\n",
       "   'objectCount': '1',\n",
       "   'recordCount': '1032190',\n",
       "   'sizeKey': '42319794',\n",
       "   'typeOfData': 'file'},\n",
       "  'CreatedBy': 'arn:aws:sts::041631420165:assumed-role/AWSGlueServiceRole/AWS-Crawler',\n",
       "  'IsRegisteredWithLakeFormation': False},\n",
       " 'ResponseMetadata': {'RequestId': '0a783ea8-c81d-11e9-8655-8b4ab7a6dcfb',\n",
       "  'HTTPStatusCode': 200,\n",
       "  'HTTPHeaders': {'date': 'Mon, 26 Aug 2019 16:17:46 GMT',\n",
       "   'content-type': 'application/x-amz-json-1.1',\n",
       "   'content-length': '1896',\n",
       "   'connection': 'keep-alive',\n",
       "   'x-amzn-requestid': '0a783ea8-c81d-11e9-8655-8b4ab7a6dcfb'},\n",
       "  'RetryAttempts': 0}}"
      ]
     },
     "execution_count": 9,
     "metadata": {},
     "output_type": "execute_result"
    }
   ],
   "source": [
    "table = glue_client.get_table(DatabaseName='endtoendml-db', Name='data')\n",
    "table"
   ]
  },
  {
   "cell_type": "code",
   "execution_count": 10,
   "metadata": {},
   "outputs": [],
   "source": [
    "table['Table']['StorageDescriptor']['Columns'] = [{'Name': 'turbine_id', 'Type': 'string'},\n",
    "                                                  {'Name': 'turbine_type', 'Type': 'string'},\n",
    "                                                  {'Name': 'wind_speed', 'Type': 'bigint'},\n",
    "                                                  {'Name': 'RPM_blade', 'Type': 'bigint'},\n",
    "                                                  {'Name': 'col4float', 'Type': 'double'},\n",
    "                                                  {'Name': 'oil_level', 'Type': 'bigint'},\n",
    "                                                  {'Name': 'temperature', 'Type': 'bigint'},\n",
    "                                                  {'Name': 'humidity', 'Type': 'bigint'},\n",
    "                                                  {'Name': 'vibrations_frequency', 'Type': 'bigint'},\n",
    "                                                  {'Name': 'pressure', 'Type': 'bigint'},\n",
    "                                                  {'Name': 'wind_direction', 'Type': 'string'},\n",
    "                                                  {'Name': 'breakdown', 'Type': 'string'}]\n"
   ]
  },
  {
   "cell_type": "code",
   "execution_count": 11,
   "metadata": {
    "scrolled": true
   },
   "outputs": [
    {
     "data": {
      "text/plain": [
       "{'ResponseMetadata': {'RequestId': '0fd84847-c81d-11e9-ae01-4b6d9fe8ec5c',\n",
       "  'HTTPStatusCode': 200,\n",
       "  'HTTPHeaders': {'date': 'Mon, 26 Aug 2019 16:17:55 GMT',\n",
       "   'content-type': 'application/x-amz-json-1.1',\n",
       "   'content-length': '2',\n",
       "   'connection': 'keep-alive',\n",
       "   'x-amzn-requestid': '0fd84847-c81d-11e9-ae01-4b6d9fe8ec5c'},\n",
       "  'RetryAttempts': 0}}"
      ]
     },
     "execution_count": 11,
     "metadata": {},
     "output_type": "execute_result"
    }
   ],
   "source": [
    "updated_table = table['Table']\n",
    "updated_table.pop('DatabaseName', None)\n",
    "updated_table.pop('CreateTime', None)\n",
    "updated_table.pop('UpdateTime', None)\n",
    "updated_table.pop('CreatedBy', None)\n",
    "updated_table.pop('IsRegisteredWithLakeFormation', None)\n",
    "\n",
    "glue_client.update_table(\n",
    "    DatabaseName='endtoendml-db',\n",
    "    TableInput=updated_table\n",
    ")"
   ]
  },
  {
   "cell_type": "markdown",
   "metadata": {},
   "source": [
    "Let's try to run a first SQL query to see how are data look like"
   ]
  },
  {
   "cell_type": "code",
   "execution_count": 12,
   "metadata": {},
   "outputs": [
    {
     "data": {
      "text/html": [
       "<div>\n",
       "<style scoped>\n",
       "    .dataframe tbody tr th:only-of-type {\n",
       "        vertical-align: middle;\n",
       "    }\n",
       "\n",
       "    .dataframe tbody tr th {\n",
       "        vertical-align: top;\n",
       "    }\n",
       "\n",
       "    .dataframe thead th {\n",
       "        text-align: right;\n",
       "    }\n",
       "</style>\n",
       "<table border=\"1\" class=\"dataframe\">\n",
       "  <thead>\n",
       "    <tr style=\"text-align: right;\">\n",
       "      <th></th>\n",
       "      <th>turbine_id</th>\n",
       "      <th>turbine_type</th>\n",
       "      <th>wind_speed</th>\n",
       "      <th>rpm_blade</th>\n",
       "      <th>col4float</th>\n",
       "      <th>oil_level</th>\n",
       "      <th>temperature</th>\n",
       "      <th>humidity</th>\n",
       "      <th>vibrations_frequency</th>\n",
       "      <th>pressure</th>\n",
       "      <th>wind_direction</th>\n",
       "      <th>breakdown</th>\n",
       "    </tr>\n",
       "  </thead>\n",
       "  <tbody>\n",
       "    <tr>\n",
       "      <th>0</th>\n",
       "      <td>TID003</td>\n",
       "      <td>HAWT</td>\n",
       "      <td>80</td>\n",
       "      <td>61</td>\n",
       "      <td>NaN</td>\n",
       "      <td>34</td>\n",
       "      <td>33</td>\n",
       "      <td>26</td>\n",
       "      <td>1</td>\n",
       "      <td>77</td>\n",
       "      <td>E</td>\n",
       "      <td>no</td>\n",
       "    </tr>\n",
       "    <tr>\n",
       "      <th>1</th>\n",
       "      <td>TID010</td>\n",
       "      <td>HAWT</td>\n",
       "      <td>85</td>\n",
       "      <td>78</td>\n",
       "      <td>36.0</td>\n",
       "      <td>28</td>\n",
       "      <td>35</td>\n",
       "      <td>43</td>\n",
       "      <td>15</td>\n",
       "      <td>62</td>\n",
       "      <td>NE</td>\n",
       "      <td>yes</td>\n",
       "    </tr>\n",
       "    <tr>\n",
       "      <th>2</th>\n",
       "      <td>TID007</td>\n",
       "      <td>HAWT</td>\n",
       "      <td>47</td>\n",
       "      <td>31</td>\n",
       "      <td>31.0</td>\n",
       "      <td>23</td>\n",
       "      <td>46</td>\n",
       "      <td>62</td>\n",
       "      <td>15</td>\n",
       "      <td>32</td>\n",
       "      <td>N</td>\n",
       "      <td>no</td>\n",
       "    </tr>\n",
       "    <tr>\n",
       "      <th>3</th>\n",
       "      <td>TID008</td>\n",
       "      <td>VAWT</td>\n",
       "      <td>73</td>\n",
       "      <td>70</td>\n",
       "      <td>38.0</td>\n",
       "      <td>8</td>\n",
       "      <td>17</td>\n",
       "      <td>66</td>\n",
       "      <td>6</td>\n",
       "      <td>80</td>\n",
       "      <td>SW</td>\n",
       "      <td>yes</td>\n",
       "    </tr>\n",
       "    <tr>\n",
       "      <th>4</th>\n",
       "      <td>TID003</td>\n",
       "      <td>HAWT</td>\n",
       "      <td>16</td>\n",
       "      <td>23</td>\n",
       "      <td>46.0</td>\n",
       "      <td>9</td>\n",
       "      <td>76</td>\n",
       "      <td>53</td>\n",
       "      <td>14</td>\n",
       "      <td>29</td>\n",
       "      <td>W</td>\n",
       "      <td>no</td>\n",
       "    </tr>\n",
       "    <tr>\n",
       "      <th>5</th>\n",
       "      <td>TID001</td>\n",
       "      <td>HAWT</td>\n",
       "      <td>78</td>\n",
       "      <td>71</td>\n",
       "      <td>30.0</td>\n",
       "      <td>11</td>\n",
       "      <td>66</td>\n",
       "      <td>79</td>\n",
       "      <td>1</td>\n",
       "      <td>81</td>\n",
       "      <td>SW</td>\n",
       "      <td>no</td>\n",
       "    </tr>\n",
       "    <tr>\n",
       "      <th>6</th>\n",
       "      <td>TID009</td>\n",
       "      <td>HAWT</td>\n",
       "      <td>80</td>\n",
       "      <td>25</td>\n",
       "      <td>37.0</td>\n",
       "      <td>31</td>\n",
       "      <td>40</td>\n",
       "      <td>75</td>\n",
       "      <td>4</td>\n",
       "      <td>56</td>\n",
       "      <td>NW</td>\n",
       "      <td>no</td>\n",
       "    </tr>\n",
       "    <tr>\n",
       "      <th>7</th>\n",
       "      <td>TID002</td>\n",
       "      <td>VAWT</td>\n",
       "      <td>59</td>\n",
       "      <td>29</td>\n",
       "      <td>37.0</td>\n",
       "      <td>10</td>\n",
       "      <td>25</td>\n",
       "      <td>83</td>\n",
       "      <td>13</td>\n",
       "      <td>55</td>\n",
       "      <td>SE</td>\n",
       "      <td>no</td>\n",
       "    </tr>\n",
       "  </tbody>\n",
       "</table>\n",
       "</div>"
      ],
      "text/plain": [
       "  turbine_id turbine_type  wind_speed  rpm_blade  col4float  oil_level  \\\n",
       "0     TID003         HAWT          80         61        NaN         34   \n",
       "1     TID010         HAWT          85         78       36.0         28   \n",
       "2     TID007         HAWT          47         31       31.0         23   \n",
       "3     TID008         VAWT          73         70       38.0          8   \n",
       "4     TID003         HAWT          16         23       46.0          9   \n",
       "5     TID001         HAWT          78         71       30.0         11   \n",
       "6     TID009         HAWT          80         25       37.0         31   \n",
       "7     TID002         VAWT          59         29       37.0         10   \n",
       "\n",
       "   temperature  humidity  vibrations_frequency  pressure wind_direction  \\\n",
       "0           33        26                     1        77              E   \n",
       "1           35        43                    15        62             NE   \n",
       "2           46        62                    15        32              N   \n",
       "3           17        66                     6        80             SW   \n",
       "4           76        53                    14        29              W   \n",
       "5           66        79                     1        81             SW   \n",
       "6           40        75                     4        56             NW   \n",
       "7           25        83                    13        55             SE   \n",
       "\n",
       "  breakdown  \n",
       "0        no  \n",
       "1       yes  \n",
       "2        no  \n",
       "3       yes  \n",
       "4        no  \n",
       "5        no  \n",
       "6        no  \n",
       "7        no  "
      ]
     },
     "execution_count": 12,
     "metadata": {},
     "output_type": "execute_result"
    }
   ],
   "source": [
    "df = pd.read_sql('SELECT * FROM \"endtoendml-db\".data limit 8;', conn)\n",
    "df"
   ]
  },
  {
   "cell_type": "markdown",
   "metadata": {},
   "source": [
    "Another SQL query to count how many records we have"
   ]
  },
  {
   "cell_type": "code",
   "execution_count": 13,
   "metadata": {},
   "outputs": [
    {
     "data": {
      "text/html": [
       "<div>\n",
       "<style scoped>\n",
       "    .dataframe tbody tr th:only-of-type {\n",
       "        vertical-align: middle;\n",
       "    }\n",
       "\n",
       "    .dataframe tbody tr th {\n",
       "        vertical-align: top;\n",
       "    }\n",
       "\n",
       "    .dataframe thead th {\n",
       "        text-align: right;\n",
       "    }\n",
       "</style>\n",
       "<table border=\"1\" class=\"dataframe\">\n",
       "  <thead>\n",
       "    <tr style=\"text-align: right;\">\n",
       "      <th></th>\n",
       "      <th>_col0</th>\n",
       "    </tr>\n",
       "  </thead>\n",
       "  <tbody>\n",
       "    <tr>\n",
       "      <th>0</th>\n",
       "      <td>1000000</td>\n",
       "    </tr>\n",
       "  </tbody>\n",
       "</table>\n",
       "</div>"
      ],
      "text/plain": [
       "     _col0\n",
       "0  1000000"
      ]
     },
     "execution_count": 13,
     "metadata": {},
     "output_type": "execute_result"
    }
   ],
   "source": [
    "pd.read_sql('SELECT COUNT(*) FROM \"endtoendml-db\".data;', conn)"
   ]
  },
  {
   "cell_type": "markdown",
   "metadata": {},
   "source": [
    "Let's try to see what are possible values for the field \"alarm\" and how frequently they occur over the entire dataset"
   ]
  },
  {
   "cell_type": "code",
   "execution_count": 15,
   "metadata": {},
   "outputs": [
    {
     "data": {
      "text/html": [
       "<div>\n",
       "<style scoped>\n",
       "    .dataframe tbody tr th:only-of-type {\n",
       "        vertical-align: middle;\n",
       "    }\n",
       "\n",
       "    .dataframe tbody tr th {\n",
       "        vertical-align: top;\n",
       "    }\n",
       "\n",
       "    .dataframe thead th {\n",
       "        text-align: right;\n",
       "    }\n",
       "</style>\n",
       "<table border=\"1\" class=\"dataframe\">\n",
       "  <thead>\n",
       "    <tr style=\"text-align: right;\">\n",
       "      <th></th>\n",
       "      <th>breakdown</th>\n",
       "      <th>percent</th>\n",
       "    </tr>\n",
       "  </thead>\n",
       "  <tbody>\n",
       "    <tr>\n",
       "      <th>0</th>\n",
       "      <td>no</td>\n",
       "      <td>86.3421</td>\n",
       "    </tr>\n",
       "    <tr>\n",
       "      <th>1</th>\n",
       "      <td>yes</td>\n",
       "      <td>13.6579</td>\n",
       "    </tr>\n",
       "  </tbody>\n",
       "</table>\n",
       "</div>"
      ],
      "text/plain": [
       "  breakdown  percent\n",
       "0        no  86.3421\n",
       "1       yes  13.6579"
      ]
     },
     "execution_count": 15,
     "metadata": {},
     "output_type": "execute_result"
    }
   ],
   "source": [
    "pd.read_sql('SELECT breakdown, (COUNT(breakdown) * 100.0 / (SELECT COUNT(*) FROM \"endtoendml-db\".data)) \\\n",
    "            AS percent FROM \"endtoendml-db\".data GROUP BY breakdown;', conn)\n"
   ]
  },
  {
   "cell_type": "markdown",
   "metadata": {},
   "source": [
    "Now we want to see if there is a correlation between temperature and humidity. To do so we run a SQL query to select only these two columns and populate a Pandas dataframe that we will use for our analysis"
   ]
  },
  {
   "cell_type": "code",
   "execution_count": 16,
   "metadata": {},
   "outputs": [
    {
     "data": {
      "text/html": [
       "<div>\n",
       "<style scoped>\n",
       "    .dataframe tbody tr th:only-of-type {\n",
       "        vertical-align: middle;\n",
       "    }\n",
       "\n",
       "    .dataframe tbody tr th {\n",
       "        vertical-align: top;\n",
       "    }\n",
       "\n",
       "    .dataframe thead th {\n",
       "        text-align: right;\n",
       "    }\n",
       "</style>\n",
       "<table border=\"1\" class=\"dataframe\">\n",
       "  <thead>\n",
       "    <tr style=\"text-align: right;\">\n",
       "      <th></th>\n",
       "      <th>temperature</th>\n",
       "      <th>humidity</th>\n",
       "    </tr>\n",
       "  </thead>\n",
       "  <tbody>\n",
       "    <tr>\n",
       "      <th>0</th>\n",
       "      <td>33</td>\n",
       "      <td>26</td>\n",
       "    </tr>\n",
       "    <tr>\n",
       "      <th>1</th>\n",
       "      <td>35</td>\n",
       "      <td>43</td>\n",
       "    </tr>\n",
       "    <tr>\n",
       "      <th>2</th>\n",
       "      <td>46</td>\n",
       "      <td>62</td>\n",
       "    </tr>\n",
       "    <tr>\n",
       "      <th>3</th>\n",
       "      <td>17</td>\n",
       "      <td>66</td>\n",
       "    </tr>\n",
       "    <tr>\n",
       "      <th>4</th>\n",
       "      <td>76</td>\n",
       "      <td>53</td>\n",
       "    </tr>\n",
       "  </tbody>\n",
       "</table>\n",
       "</div>"
      ],
      "text/plain": [
       "   temperature  humidity\n",
       "0           33        26\n",
       "1           35        43\n",
       "2           46        62\n",
       "3           17        66\n",
       "4           76        53"
      ]
     },
     "execution_count": 16,
     "metadata": {},
     "output_type": "execute_result"
    }
   ],
   "source": [
    "temp_hum_df = pd.read_sql('SELECT temperature, humidity FROM \"endtoendml-db\".data', conn)\n",
    "temp_hum_df.head()"
   ]
  },
  {
   "cell_type": "code",
   "execution_count": 17,
   "metadata": {},
   "outputs": [
    {
     "data": {
      "text/plain": [
       "<matplotlib.collections.PathCollection at 0x7efcdb0f1e10>"
      ]
     },
     "execution_count": 17,
     "metadata": {},
     "output_type": "execute_result"
    },
    {
     "data": {
      "image/png": "[encoded data removed]",
      "text/plain": [
       "<Figure size 432x288 with 1 Axes>"
      ]
     },
     "metadata": {},
     "output_type": "display_data"
    }
   ],
   "source": [
    "%matplotlib inline\n",
    "import matplotlib.pyplot as plt\n",
    "plt.scatter(temp_hum_df.temperature, temp_hum_df.humidity)"
   ]
  },
  {
   "cell_type": "code",
   "execution_count": 18,
   "metadata": {},
   "outputs": [
    {
     "data": {
      "text/plain": [
       "(array([ 98090.,  98843.,  98548.,  98634.,  98428.,  98883.,  98715.,\n",
       "         98691.,  98457., 112711.]),\n",
       " array([15., 22., 29., 36., 43., 50., 57., 64., 71., 78., 85.]),\n",
       " <a list of 10 Patch objects>)"
      ]
     },
     "execution_count": 18,
     "metadata": {},
     "output_type": "execute_result"
    },
    {
     "data": {
      "image/png": "[encoded data removed]",
      "text/plain": [
       "<Figure size 432x288 with 1 Axes>"
      ]
     },
     "metadata": {},
     "output_type": "display_data"
    }
   ],
   "source": [
    "plt.hist(temp_hum_df.humidity, bins=10)"
   ]
  },
  {
   "cell_type": "code",
   "execution_count": 19,
   "metadata": {},
   "outputs": [
    {
     "data": {
      "text/plain": [
       "<matplotlib.collections.PathCollection at 0x7efccea7bf28>"
      ]
     },
     "execution_count": 19,
     "metadata": {},
     "output_type": "execute_result"
    },
    {
     "data": {
      "image/png": "[encoded data removed]",
      "text/plain": [
       "<Figure size 432x288 with 1 Axes>"
      ]
     },
     "metadata": {},
     "output_type": "display_data"
    }
   ],
   "source": [
    "wind_rpm_df = pd.read_sql('SELECT wind_speed, rpm_blade FROM \"endtoendml-db\".data', conn)\n",
    "plt.scatter(wind_rpm_df.wind_speed, wind_rpm_df.rpm_blade)"
   ]
  },
  {
   "cell_type": "markdown",
   "metadata": {},
   "source": [
    "Note: you can go to Amazon Athena console and check for query duration under History tab: usually queries are executed in a few seconds, then it takes a while for pandas to load results into a dataframe"
   ]
  },
  {
   "cell_type": "code",
   "execution_count": null,
   "metadata": {},
   "outputs": [],
   "source": [
    "wind_rpm_df.describe()"
   ]
  },
  {
   "cell_type": "markdown",
   "metadata": {},
   "source": [
    "Now we select our entire dataset and populate a dataframe.  "
   ]
  },
  {
   "cell_type": "code",
   "execution_count": 20,
   "metadata": {},
   "outputs": [
    {
     "name": "stdout",
     "output_type": "stream",
     "text": [
      "<class 'pandas.core.frame.DataFrame'>\n",
      "RangeIndex: 1000000 entries, 0 to 999999\n",
      "Data columns (total 12 columns):\n",
      "turbine_id              1000000 non-null object\n",
      "turbine_type            1000000 non-null object\n",
      "wind_speed              1000000 non-null int64\n",
      "rpm_blade               1000000 non-null int64\n",
      "col4float               961703 non-null float64\n",
      "oil_level               1000000 non-null int64\n",
      "temperature             1000000 non-null int64\n",
      "humidity                1000000 non-null int64\n",
      "vibrations_frequency    1000000 non-null int64\n",
      "pressure                1000000 non-null int64\n",
      "wind_direction          1000000 non-null object\n",
      "breakdown               1000000 non-null object\n",
      "dtypes: float64(1), int64(7), object(4)\n",
      "memory usage: 91.6+ MB\n"
     ]
    }
   ],
   "source": [
    "df = pd.read_sql('SELECT * FROM \"endtoendml-db\".data;', conn)\n",
    "df.info()"
   ]
  },
  {
   "cell_type": "markdown",
   "metadata": {},
   "source": [
    "You can notice that col4float has some missing values"
   ]
  },
  {
   "cell_type": "code",
   "execution_count": 21,
   "metadata": {},
   "outputs": [
    {
     "data": {
      "text/html": [
       "<div>\n",
       "<style scoped>\n",
       "    .dataframe tbody tr th:only-of-type {\n",
       "        vertical-align: middle;\n",
       "    }\n",
       "\n",
       "    .dataframe tbody tr th {\n",
       "        vertical-align: top;\n",
       "    }\n",
       "\n",
       "    .dataframe thead th {\n",
       "        text-align: right;\n",
       "    }\n",
       "</style>\n",
       "<table border=\"1\" class=\"dataframe\">\n",
       "  <thead>\n",
       "    <tr style=\"text-align: right;\">\n",
       "      <th></th>\n",
       "      <th>turbine_id</th>\n",
       "      <th>turbine_type</th>\n",
       "      <th>wind_speed</th>\n",
       "      <th>rpm_blade</th>\n",
       "      <th>col4float</th>\n",
       "      <th>oil_level</th>\n",
       "      <th>temperature</th>\n",
       "      <th>humidity</th>\n",
       "      <th>vibrations_frequency</th>\n",
       "      <th>pressure</th>\n",
       "      <th>wind_direction</th>\n",
       "      <th>breakdown</th>\n",
       "    </tr>\n",
       "  </thead>\n",
       "  <tbody>\n",
       "    <tr>\n",
       "      <th>count</th>\n",
       "      <td>1000000</td>\n",
       "      <td>1000000</td>\n",
       "      <td>1000000.000000</td>\n",
       "      <td>1000000.000000</td>\n",
       "      <td>961703.000000</td>\n",
       "      <td>1000000.000000</td>\n",
       "      <td>1000000.000000</td>\n",
       "      <td>1000000.000000</td>\n",
       "      <td>1000000.000000</td>\n",
       "      <td>1000000.000000</td>\n",
       "      <td>1000000</td>\n",
       "      <td>1000000</td>\n",
       "    </tr>\n",
       "    <tr>\n",
       "      <th>unique</th>\n",
       "      <td>10</td>\n",
       "      <td>3</td>\n",
       "      <td>NaN</td>\n",
       "      <td>NaN</td>\n",
       "      <td>NaN</td>\n",
       "      <td>NaN</td>\n",
       "      <td>NaN</td>\n",
       "      <td>NaN</td>\n",
       "      <td>NaN</td>\n",
       "      <td>NaN</td>\n",
       "      <td>8</td>\n",
       "      <td>2</td>\n",
       "    </tr>\n",
       "    <tr>\n",
       "      <th>top</th>\n",
       "      <td>TID004</td>\n",
       "      <td>HAWT</td>\n",
       "      <td>NaN</td>\n",
       "      <td>NaN</td>\n",
       "      <td>NaN</td>\n",
       "      <td>NaN</td>\n",
       "      <td>NaN</td>\n",
       "      <td>NaN</td>\n",
       "      <td>NaN</td>\n",
       "      <td>NaN</td>\n",
       "      <td>S</td>\n",
       "      <td>no</td>\n",
       "    </tr>\n",
       "    <tr>\n",
       "      <th>freq</th>\n",
       "      <td>100268</td>\n",
       "      <td>699712</td>\n",
       "      <td>NaN</td>\n",
       "      <td>NaN</td>\n",
       "      <td>NaN</td>\n",
       "      <td>NaN</td>\n",
       "      <td>NaN</td>\n",
       "      <td>NaN</td>\n",
       "      <td>NaN</td>\n",
       "      <td>NaN</td>\n",
       "      <td>125438</td>\n",
       "      <td>863421</td>\n",
       "    </tr>\n",
       "    <tr>\n",
       "      <th>mean</th>\n",
       "      <td>NaN</td>\n",
       "      <td>NaN</td>\n",
       "      <td>49.990414</td>\n",
       "      <td>50.010095</td>\n",
       "      <td>37.435021</td>\n",
       "      <td>19.998577</td>\n",
       "      <td>50.023570</td>\n",
       "      <td>50.014965</td>\n",
       "      <td>7.994064</td>\n",
       "      <td>49.985960</td>\n",
       "      <td>NaN</td>\n",
       "      <td>NaN</td>\n",
       "    </tr>\n",
       "    <tr>\n",
       "      <th>std</th>\n",
       "      <td>NaN</td>\n",
       "      <td>NaN</td>\n",
       "      <td>20.486019</td>\n",
       "      <td>20.498963</td>\n",
       "      <td>7.640262</td>\n",
       "      <td>8.944855</td>\n",
       "      <td>20.496239</td>\n",
       "      <td>20.483369</td>\n",
       "      <td>4.319314</td>\n",
       "      <td>20.501076</td>\n",
       "      <td>NaN</td>\n",
       "      <td>NaN</td>\n",
       "    </tr>\n",
       "    <tr>\n",
       "      <th>min</th>\n",
       "      <td>NaN</td>\n",
       "      <td>NaN</td>\n",
       "      <td>15.000000</td>\n",
       "      <td>15.000000</td>\n",
       "      <td>25.000000</td>\n",
       "      <td>5.000000</td>\n",
       "      <td>15.000000</td>\n",
       "      <td>15.000000</td>\n",
       "      <td>1.000000</td>\n",
       "      <td>15.000000</td>\n",
       "      <td>NaN</td>\n",
       "      <td>NaN</td>\n",
       "    </tr>\n",
       "    <tr>\n",
       "      <th>25%</th>\n",
       "      <td>NaN</td>\n",
       "      <td>NaN</td>\n",
       "      <td>32.000000</td>\n",
       "      <td>32.000000</td>\n",
       "      <td>31.000000</td>\n",
       "      <td>12.000000</td>\n",
       "      <td>32.000000</td>\n",
       "      <td>32.000000</td>\n",
       "      <td>4.000000</td>\n",
       "      <td>32.000000</td>\n",
       "      <td>NaN</td>\n",
       "      <td>NaN</td>\n",
       "    </tr>\n",
       "    <tr>\n",
       "      <th>50%</th>\n",
       "      <td>NaN</td>\n",
       "      <td>NaN</td>\n",
       "      <td>50.000000</td>\n",
       "      <td>50.000000</td>\n",
       "      <td>37.000000</td>\n",
       "      <td>20.000000</td>\n",
       "      <td>50.000000</td>\n",
       "      <td>50.000000</td>\n",
       "      <td>8.000000</td>\n",
       "      <td>50.000000</td>\n",
       "      <td>NaN</td>\n",
       "      <td>NaN</td>\n",
       "    </tr>\n",
       "    <tr>\n",
       "      <th>75%</th>\n",
       "      <td>NaN</td>\n",
       "      <td>NaN</td>\n",
       "      <td>68.000000</td>\n",
       "      <td>68.000000</td>\n",
       "      <td>44.000000</td>\n",
       "      <td>28.000000</td>\n",
       "      <td>68.000000</td>\n",
       "      <td>68.000000</td>\n",
       "      <td>12.000000</td>\n",
       "      <td>68.000000</td>\n",
       "      <td>NaN</td>\n",
       "      <td>NaN</td>\n",
       "    </tr>\n",
       "    <tr>\n",
       "      <th>max</th>\n",
       "      <td>NaN</td>\n",
       "      <td>NaN</td>\n",
       "      <td>85.000000</td>\n",
       "      <td>85.000000</td>\n",
       "      <td>50.000000</td>\n",
       "      <td>35.000000</td>\n",
       "      <td>85.000000</td>\n",
       "      <td>85.000000</td>\n",
       "      <td>15.000000</td>\n",
       "      <td>85.000000</td>\n",
       "      <td>NaN</td>\n",
       "      <td>NaN</td>\n",
       "    </tr>\n",
       "  </tbody>\n",
       "</table>\n",
       "</div>"
      ],
      "text/plain": [
       "       turbine_id turbine_type      wind_speed       rpm_blade      col4float  \\\n",
       "count     1000000      1000000  1000000.000000  1000000.000000  961703.000000   \n",
       "unique         10            3             NaN             NaN            NaN   \n",
       "top        TID004         HAWT             NaN             NaN            NaN   \n",
       "freq       100268       699712             NaN             NaN            NaN   \n",
       "mean          NaN          NaN       49.990414       50.010095      37.435021   \n",
       "std           NaN          NaN       20.486019       20.498963       7.640262   \n",
       "min           NaN          NaN       15.000000       15.000000      25.000000   \n",
       "25%           NaN          NaN       32.000000       32.000000      31.000000   \n",
       "50%           NaN          NaN       50.000000       50.000000      37.000000   \n",
       "75%           NaN          NaN       68.000000       68.000000      44.000000   \n",
       "max           NaN          NaN       85.000000       85.000000      50.000000   \n",
       "\n",
       "             oil_level     temperature        humidity  vibrations_frequency  \\\n",
       "count   1000000.000000  1000000.000000  1000000.000000        1000000.000000   \n",
       "unique             NaN             NaN             NaN                   NaN   \n",
       "top                NaN             NaN             NaN                   NaN   \n",
       "freq               NaN             NaN             NaN                   NaN   \n",
       "mean         19.998577       50.023570       50.014965              7.994064   \n",
       "std           8.944855       20.496239       20.483369              4.319314   \n",
       "min           5.000000       15.000000       15.000000              1.000000   \n",
       "25%          12.000000       32.000000       32.000000              4.000000   \n",
       "50%          20.000000       50.000000       50.000000              8.000000   \n",
       "75%          28.000000       68.000000       68.000000             12.000000   \n",
       "max          35.000000       85.000000       85.000000             15.000000   \n",
       "\n",
       "              pressure wind_direction breakdown  \n",
       "count   1000000.000000        1000000   1000000  \n",
       "unique             NaN              8         2  \n",
       "top                NaN              S        no  \n",
       "freq               NaN         125438    863421  \n",
       "mean         49.985960            NaN       NaN  \n",
       "std          20.501076            NaN       NaN  \n",
       "min          15.000000            NaN       NaN  \n",
       "25%          32.000000            NaN       NaN  \n",
       "50%          50.000000            NaN       NaN  \n",
       "75%          68.000000            NaN       NaN  \n",
       "max          85.000000            NaN       NaN  "
      ]
     },
     "execution_count": 21,
     "metadata": {},
     "output_type": "execute_result"
    }
   ],
   "source": [
    "df.describe(include=['object', 'int64', 'float64'])"
   ]
  },
  {
   "cell_type": "code",
   "execution_count": 23,
   "metadata": {},
   "outputs": [
    {
     "data": {
      "text/plain": [
       "array(['HAWT', 'VAWT', ''], dtype=object)"
      ]
     },
     "execution_count": 23,
     "metadata": {},
     "output_type": "execute_result"
    }
   ],
   "source": [
    "df['turbine_type'].unique()"
   ]
  },
  {
   "cell_type": "code",
   "execution_count": 27,
   "metadata": {},
   "outputs": [],
   "source": [
    "ETLJob = glue_client.create_job(Name='endtoendml-job', Role='AWSGlueServiceRole',\n",
    "                          Command={'Name': 'glueetl',\n",
    "                                   'ScriptLocation': 's3://antoduma-res/my_etl.py'})"
   ]
  },
  {
   "cell_type": "code",
   "execution_count": 28,
   "metadata": {},
   "outputs": [],
   "source": [
    "JobRun = glue_client.start_job_run(JobName=ETLJob['Name'], \n",
    "                                  Arguments = {'--bucket': bucket_name})\n",
    "status = glue_client.get_job_run(JobName=ETLJob['Name'], RunId=JobRun['JobRunId'])\n",
    "while status['JobRun']['JobRunState'] != 'SUCCEEDED' and status['JobRun']['JobRunState'] != 'FAILED':\n",
    "    time.sleep(5)\n",
    "    status = glue_client.get_job_run(JobName=ETLJob['Name'], RunId=JobRun['JobRunId'])\n",
    "\n",
    "assert status['JobRun']['JobRunState'] == 'SUCCEEDED'\n",
    "    \n",
    "#This will take around 6 minutes"
   ]
  }
 ],
 "metadata": {
  "kernelspec": {
   "display_name": "conda_python3",
   "language": "python",
   "name": "conda_python3"
  },
  "language_info": {
   "codemirror_mode": {
    "name": "ipython",
    "version": 3
   },
   "file_extension": ".py",
   "mimetype": "text/x-python",
   "name": "python",
   "nbconvert_exporter": "python",
   "pygments_lexer": "ipython3",
   "version": "3.6.5"
  }
 },
 "nbformat": 4,
 "nbformat_minor": 2
}
