{
 "cells": [
  {
   "cell_type": "markdown",
   "metadata": {},
   "source": [
    "<h1>Copy raw data in your S3 bucket</h1>"
   ]
  },
  {
   "cell_type": "code",
   "execution_count": 2,
   "metadata": {},
   "outputs": [
    {
     "name": "stdout",
     "output_type": "stream",
     "text": [
      "eu-west-1\n",
      "arn:aws:iam::041631420165:role/service-role/AmazonSageMaker-ExecutionRole-20180507T143636\n",
      "endtoendml-workshop-ad82\n"
     ]
    }
   ],
   "source": [
    "import boto3\n",
    "import sagemaker\n",
    "import time\n",
    "\n",
    "role = sagemaker.get_execution_role()\n",
    "region = boto3.Session().region_name\n",
    "\n",
    "print(region)\n",
    "print(role)\n",
    " \n",
    "# replace [your-initials] according to the bucket name you have defined.\n",
    "bucket_name = 'endtoendml-workshop-[your-initials]'\n",
    "bucket_name = 'endtoendml-workshop-ad82'\n",
    "prefix = '02'\n",
    "\n",
    "print(bucket_name)"
   ]
  },
  {
   "cell_type": "code",
   "execution_count": 3,
   "metadata": {},
   "outputs": [],
   "source": [
    "import boto3\n",
    "\n",
    "s3 = boto3.resource('s3')\n",
    "\n",
    "copy_source = {\n",
    "    'Bucket': 'gianpo-public',\n",
    "    'Key': 'windturbine_raw_data.csv'\n",
    "}\n",
    "\n",
    "file_name = 'windturbine_raw_data.csv'\n",
    "file_key = 'data/{0}'.format(file_name)\n",
    "s3.Bucket(bucket_name).copy(copy_source, file_key)"
   ]
  },
  {
   "cell_type": "markdown",
   "metadata": {},
   "source": [
    "<h1>Create a Glue Crawler to infer schema for your data</h1>\n"
   ]
  },
  {
   "cell_type": "code",
   "execution_count": 4,
   "metadata": {},
   "outputs": [],
   "source": [
    "glue_client = boto3.client('glue')\n",
    "response = glue_client.create_database(DatabaseInput={'Name': 'endtoendml-db'})\n",
    "response = glue_client.get_database(Name='endtoendml-db')\n",
    "response\n",
    "assert response['Database']['Name'] == 'endtoendml-db'\n"
   ]
  },
  {
   "cell_type": "code",
   "execution_count": 5,
   "metadata": {},
   "outputs": [],
   "source": [
    "response = glue_client.create_crawler(\n",
    "    Name='endtoendml-crawler',\n",
    "    Role='GlueServiceRole-endtoendml', \n",
    "    DatabaseName='endtoendml-db',\n",
    "    Targets={'S3Targets': [{'Path': '{0}/data/'.format(bucket_name)}]}\n",
    ")"
   ]
  },
  {
   "cell_type": "code",
   "execution_count": 17,
   "metadata": {},
   "outputs": [
    {
     "data": {
      "text/plain": [
       "{'ResponseMetadata': {'RequestId': 'd765a599-c98f-11e9-a417-353584e62773',\n",
       "  'HTTPStatusCode': 200,\n",
       "  'HTTPHeaders': {'date': 'Wed, 28 Aug 2019 12:32:15 GMT',\n",
       "   'content-type': 'application/x-amz-json-1.1',\n",
       "   'content-length': '2',\n",
       "   'connection': 'keep-alive',\n",
       "   'x-amzn-requestid': 'd765a599-c98f-11e9-a417-353584e62773'},\n",
       "  'RetryAttempts': 0}}"
      ]
     },
     "execution_count": 17,
     "metadata": {},
     "output_type": "execute_result"
    }
   ],
   "source": [
    "glue_client.start_crawler(Name='endtoendml-crawler')"
   ]
  },
  {
   "cell_type": "code",
   "execution_count": 18,
   "metadata": {},
   "outputs": [
    {
     "data": {
      "text/plain": [
       "{'CrawlerMetricsList': [{'CrawlerName': 'endtoendml-crawler',\n",
       "   'TimeLeftSeconds': 0.0,\n",
       "   'StillEstimating': True,\n",
       "   'LastRuntimeSeconds': 48.223,\n",
       "   'MedianRuntimeSeconds': 48.223,\n",
       "   'TablesCreated': 0,\n",
       "   'TablesUpdated': 0,\n",
       "   'TablesDeleted': 0}],\n",
       " 'ResponseMetadata': {'RequestId': 'df198acb-c98f-11e9-9559-d74bf715f71f',\n",
       "  'HTTPStatusCode': 200,\n",
       "  'HTTPHeaders': {'date': 'Wed, 28 Aug 2019 12:32:17 GMT',\n",
       "   'content-type': 'application/x-amz-json-1.1',\n",
       "   'content-length': '218',\n",
       "   'connection': 'keep-alive',\n",
       "   'x-amzn-requestid': 'df198acb-c98f-11e9-9559-d74bf715f71f'},\n",
       "  'RetryAttempts': 0}}"
      ]
     },
     "execution_count": 18,
     "metadata": {},
     "output_type": "execute_result"
    }
   ],
   "source": [
    "glue_client.get_crawler_metrics(CrawlerNameList=['endtoendml-crawler'])"
   ]
  },
  {
   "cell_type": "code",
   "execution_count": 19,
   "metadata": {},
   "outputs": [
    {
     "name": "stdout",
     "output_type": "stream",
     "text": [
      "RUNNING\n",
      "RUNNING\n",
      "RUNNING\n",
      "RUNNING\n",
      "RUNNING\n",
      "RUNNING\n",
      "RUNNING\n",
      "RUNNING\n",
      "RUNNING\n",
      "RUNNING\n"
     ]
    }
   ],
   "source": [
    "while glue_client.get_crawler_metrics(CrawlerNameList=['endtoendml-crawler'])['CrawlerMetricsList'][0]['TablesCreated'] == 0:\n",
    "    print('RUNNING')\n",
    "    time.sleep(15)\n",
    "    \n",
    "assert glue_client.get_crawler_metrics(CrawlerNameList=['endtoendml-crawler'])['CrawlerMetricsList'][0]['TablesCreated'] == 1\n"
   ]
  },
  {
   "cell_type": "code",
   "execution_count": 20,
   "metadata": {},
   "outputs": [
    {
     "data": {
      "text/plain": [
       "{'Table': {'Name': 'data',\n",
       "  'DatabaseName': 'endtoendml-db',\n",
       "  'Owner': 'owner',\n",
       "  'CreateTime': datetime.datetime(2019, 8, 28, 12, 33, 6, tzinfo=tzlocal()),\n",
       "  'UpdateTime': datetime.datetime(2019, 8, 28, 12, 33, 6, tzinfo=tzlocal()),\n",
       "  'LastAccessTime': datetime.datetime(2019, 8, 28, 12, 33, 6, tzinfo=tzlocal()),\n",
       "  'Retention': 0,\n",
       "  'StorageDescriptor': {'Columns': [{'Name': 'col0', 'Type': 'string'},\n",
       "    {'Name': 'col1', 'Type': 'string'},\n",
       "    {'Name': 'col2', 'Type': 'bigint'},\n",
       "    {'Name': 'col3', 'Type': 'bigint'},\n",
       "    {'Name': 'col4', 'Type': 'double'},\n",
       "    {'Name': 'col5', 'Type': 'bigint'},\n",
       "    {'Name': 'col6', 'Type': 'bigint'},\n",
       "    {'Name': 'col7', 'Type': 'bigint'},\n",
       "    {'Name': 'col8', 'Type': 'bigint'},\n",
       "    {'Name': 'col9', 'Type': 'bigint'},\n",
       "    {'Name': 'col10', 'Type': 'string'},\n",
       "    {'Name': 'col11', 'Type': 'string'}],\n",
       "   'Location': 's3://endtoendml-workshop-ad82/data/',\n",
       "   'InputFormat': 'org.apache.hadoop.mapred.TextInputFormat',\n",
       "   'OutputFormat': 'org.apache.hadoop.hive.ql.io.HiveIgnoreKeyTextOutputFormat',\n",
       "   'Compressed': False,\n",
       "   'NumberOfBuckets': -1,\n",
       "   'SerdeInfo': {'SerializationLibrary': 'org.apache.hadoop.hive.serde2.lazy.LazySimpleSerDe',\n",
       "    'Parameters': {'field.delim': ','}},\n",
       "   'BucketColumns': [],\n",
       "   'SortColumns': [],\n",
       "   'Parameters': {'CrawlerSchemaDeserializerVersion': '1.0',\n",
       "    'CrawlerSchemaSerializerVersion': '1.0',\n",
       "    'UPDATED_BY_CRAWLER': 'endtoendml-crawler',\n",
       "    'areColumnsQuoted': 'false',\n",
       "    'averageRecordSize': '41',\n",
       "    'classification': 'csv',\n",
       "    'columnsOrdered': 'true',\n",
       "    'compressionType': 'none',\n",
       "    'delimiter': ',',\n",
       "    'objectCount': '1',\n",
       "    'recordCount': '1032190',\n",
       "    'sizeKey': '42319794',\n",
       "    'typeOfData': 'file'},\n",
       "   'StoredAsSubDirectories': False},\n",
       "  'PartitionKeys': [],\n",
       "  'TableType': 'EXTERNAL_TABLE',\n",
       "  'Parameters': {'CrawlerSchemaDeserializerVersion': '1.0',\n",
       "   'CrawlerSchemaSerializerVersion': '1.0',\n",
       "   'UPDATED_BY_CRAWLER': 'endtoendml-crawler',\n",
       "   'areColumnsQuoted': 'false',\n",
       "   'averageRecordSize': '41',\n",
       "   'classification': 'csv',\n",
       "   'columnsOrdered': 'true',\n",
       "   'compressionType': 'none',\n",
       "   'delimiter': ',',\n",
       "   'objectCount': '1',\n",
       "   'recordCount': '1032190',\n",
       "   'sizeKey': '42319794',\n",
       "   'typeOfData': 'file'},\n",
       "  'CreatedBy': 'arn:aws:sts::041631420165:assumed-role/GlueServiceRole-endtoendml/AWS-Crawler',\n",
       "  'IsRegisteredWithLakeFormation': False},\n",
       " 'ResponseMetadata': {'RequestId': '11f8c3bd-c990-11e9-8655-8b4ab7a6dcfb',\n",
       "  'HTTPStatusCode': 200,\n",
       "  'HTTPHeaders': {'date': 'Wed, 28 Aug 2019 12:33:42 GMT',\n",
       "   'content-type': 'application/x-amz-json-1.1',\n",
       "   'content-length': '1901',\n",
       "   'connection': 'keep-alive',\n",
       "   'x-amzn-requestid': '11f8c3bd-c990-11e9-8655-8b4ab7a6dcfb'},\n",
       "  'RetryAttempts': 0}}"
      ]
     },
     "execution_count": 20,
     "metadata": {},
     "output_type": "execute_result"
    }
   ],
   "source": [
    "table = glue_client.get_table(DatabaseName='endtoendml-db', Name='data')\n",
    "table"
   ]
  },
  {
   "cell_type": "code",
   "execution_count": 21,
   "metadata": {},
   "outputs": [],
   "source": [
    "table['Table']['StorageDescriptor']['Columns'] = [{'Name': 'turbine_id', 'Type': 'string'},\n",
    "                                                  {'Name': 'turbine_type', 'Type': 'string'},\n",
    "                                                  {'Name': 'wind_speed', 'Type': 'double'},\n",
    "                                                  {'Name': 'RPM_blade', 'Type': 'double'},\n",
    "                                                  {'Name': 'oil_temperature', 'Type': 'double'},\n",
    "                                                  {'Name': 'oil_level', 'Type': 'double'},\n",
    "                                                  {'Name': 'temperature', 'Type': 'double'},\n",
    "                                                  {'Name': 'humidity', 'Type': 'double'},\n",
    "                                                  {'Name': 'vibrations_frequency', 'Type': 'double'},\n",
    "                                                  {'Name': 'pressure', 'Type': 'double'},\n",
    "                                                  {'Name': 'wind_direction', 'Type': 'string'},\n",
    "                                                  {'Name': 'breakdown', 'Type': 'string'}]\n"
   ]
  },
  {
   "cell_type": "code",
   "execution_count": 22,
   "metadata": {
    "scrolled": true
   },
   "outputs": [
    {
     "data": {
      "text/plain": [
       "{'ResponseMetadata': {'RequestId': '1a1cf6f7-c990-11e9-bf24-b1a67eeb407f',\n",
       "  'HTTPStatusCode': 200,\n",
       "  'HTTPHeaders': {'date': 'Wed, 28 Aug 2019 12:33:56 GMT',\n",
       "   'content-type': 'application/x-amz-json-1.1',\n",
       "   'content-length': '2',\n",
       "   'connection': 'keep-alive',\n",
       "   'x-amzn-requestid': '1a1cf6f7-c990-11e9-bf24-b1a67eeb407f'},\n",
       "  'RetryAttempts': 0}}"
      ]
     },
     "execution_count": 22,
     "metadata": {},
     "output_type": "execute_result"
    }
   ],
   "source": [
    "updated_table = table['Table']\n",
    "updated_table.pop('DatabaseName', None)\n",
    "updated_table.pop('CreateTime', None)\n",
    "updated_table.pop('UpdateTime', None)\n",
    "updated_table.pop('CreatedBy', None)\n",
    "updated_table.pop('IsRegisteredWithLakeFormation', None)\n",
    "\n",
    "glue_client.update_table(\n",
    "    DatabaseName='endtoendml-db',\n",
    "    TableInput=updated_table\n",
    ")"
   ]
  },
  {
   "cell_type": "code",
   "execution_count": 23,
   "metadata": {},
   "outputs": [
    {
     "name": "stdout",
     "output_type": "stream",
     "text": [
      "Requirement already satisfied: pyathena in /home/ec2-user/anaconda3/envs/python3/lib/python3.6/site-packages (1.7.1)\n",
      "Requirement already satisfied: botocore>=1.5.52 in /home/ec2-user/anaconda3/envs/python3/lib/python3.6/site-packages (from pyathena) (1.12.207)\n",
      "Requirement already satisfied: tenacity>=4.1.0 in /home/ec2-user/anaconda3/envs/python3/lib/python3.6/site-packages (from pyathena) (5.1.1)\n",
      "Requirement already satisfied: boto3>=1.4.4 in /home/ec2-user/anaconda3/envs/python3/lib/python3.6/site-packages (from pyathena) (1.9.207)\n",
      "Requirement already satisfied: future in /home/ec2-user/anaconda3/envs/python3/lib/python3.6/site-packages (from pyathena) (0.17.1)\n",
      "Requirement already satisfied: urllib3<1.26,>=1.20; python_version >= \"3.4\" in /home/ec2-user/anaconda3/envs/python3/lib/python3.6/site-packages (from botocore>=1.5.52->pyathena) (1.23)\n",
      "Requirement already satisfied: python-dateutil<3.0.0,>=2.1; python_version >= \"2.7\" in /home/ec2-user/anaconda3/envs/python3/lib/python3.6/site-packages (from botocore>=1.5.52->pyathena) (2.7.3)\n",
      "Requirement already satisfied: jmespath<1.0.0,>=0.7.1 in /home/ec2-user/anaconda3/envs/python3/lib/python3.6/site-packages (from botocore>=1.5.52->pyathena) (0.9.4)\n",
      "Requirement already satisfied: docutils<0.15,>=0.10 in /home/ec2-user/anaconda3/envs/python3/lib/python3.6/site-packages (from botocore>=1.5.52->pyathena) (0.14)\n",
      "Requirement already satisfied: six>=1.9.0 in /home/ec2-user/anaconda3/envs/python3/lib/python3.6/site-packages (from tenacity>=4.1.0->pyathena) (1.11.0)\n",
      "Requirement already satisfied: s3transfer<0.3.0,>=0.2.0 in /home/ec2-user/anaconda3/envs/python3/lib/python3.6/site-packages (from boto3>=1.4.4->pyathena) (0.2.1)\n",
      "\u001b[33mYou are using pip version 10.0.1, however version 19.2.2 is available.\n",
      "You should consider upgrading via the 'pip install --upgrade pip' command.\u001b[0m\n"
     ]
    }
   ],
   "source": [
    "!pip install pyathena"
   ]
  },
  {
   "cell_type": "code",
   "execution_count": 24,
   "metadata": {},
   "outputs": [
    {
     "data": {
      "text/html": [
       "<div>\n",
       "<style scoped>\n",
       "    .dataframe tbody tr th:only-of-type {\n",
       "        vertical-align: middle;\n",
       "    }\n",
       "\n",
       "    .dataframe tbody tr th {\n",
       "        vertical-align: top;\n",
       "    }\n",
       "\n",
       "    .dataframe thead th {\n",
       "        text-align: right;\n",
       "    }\n",
       "</style>\n",
       "<table border=\"1\" class=\"dataframe\">\n",
       "  <thead>\n",
       "    <tr style=\"text-align: right;\">\n",
       "      <th></th>\n",
       "      <th>turbine_id</th>\n",
       "      <th>turbine_type</th>\n",
       "      <th>wind_speed</th>\n",
       "      <th>rpm_blade</th>\n",
       "      <th>oil_temperature</th>\n",
       "      <th>oil_level</th>\n",
       "      <th>temperature</th>\n",
       "      <th>humidity</th>\n",
       "      <th>vibrations_frequency</th>\n",
       "      <th>pressure</th>\n",
       "      <th>wind_direction</th>\n",
       "      <th>breakdown</th>\n",
       "    </tr>\n",
       "  </thead>\n",
       "  <tbody>\n",
       "    <tr>\n",
       "      <th>0</th>\n",
       "      <td>TID003</td>\n",
       "      <td>HAWT</td>\n",
       "      <td>80.0</td>\n",
       "      <td>61.0</td>\n",
       "      <td>NaN</td>\n",
       "      <td>34.0</td>\n",
       "      <td>33.0</td>\n",
       "      <td>26.0</td>\n",
       "      <td>1.0</td>\n",
       "      <td>77.0</td>\n",
       "      <td>E</td>\n",
       "      <td>no</td>\n",
       "    </tr>\n",
       "    <tr>\n",
       "      <th>1</th>\n",
       "      <td>TID010</td>\n",
       "      <td>HAWT</td>\n",
       "      <td>85.0</td>\n",
       "      <td>78.0</td>\n",
       "      <td>36.0</td>\n",
       "      <td>28.0</td>\n",
       "      <td>35.0</td>\n",
       "      <td>43.0</td>\n",
       "      <td>15.0</td>\n",
       "      <td>62.0</td>\n",
       "      <td>NE</td>\n",
       "      <td>yes</td>\n",
       "    </tr>\n",
       "    <tr>\n",
       "      <th>2</th>\n",
       "      <td>TID007</td>\n",
       "      <td>HAWT</td>\n",
       "      <td>47.0</td>\n",
       "      <td>31.0</td>\n",
       "      <td>31.0</td>\n",
       "      <td>23.0</td>\n",
       "      <td>46.0</td>\n",
       "      <td>62.0</td>\n",
       "      <td>15.0</td>\n",
       "      <td>32.0</td>\n",
       "      <td>N</td>\n",
       "      <td>no</td>\n",
       "    </tr>\n",
       "    <tr>\n",
       "      <th>3</th>\n",
       "      <td>TID008</td>\n",
       "      <td>VAWT</td>\n",
       "      <td>73.0</td>\n",
       "      <td>70.0</td>\n",
       "      <td>38.0</td>\n",
       "      <td>8.0</td>\n",
       "      <td>17.0</td>\n",
       "      <td>66.0</td>\n",
       "      <td>6.0</td>\n",
       "      <td>80.0</td>\n",
       "      <td>SW</td>\n",
       "      <td>yes</td>\n",
       "    </tr>\n",
       "    <tr>\n",
       "      <th>4</th>\n",
       "      <td>TID003</td>\n",
       "      <td>HAWT</td>\n",
       "      <td>16.0</td>\n",
       "      <td>23.0</td>\n",
       "      <td>46.0</td>\n",
       "      <td>9.0</td>\n",
       "      <td>76.0</td>\n",
       "      <td>53.0</td>\n",
       "      <td>14.0</td>\n",
       "      <td>29.0</td>\n",
       "      <td>W</td>\n",
       "      <td>no</td>\n",
       "    </tr>\n",
       "    <tr>\n",
       "      <th>5</th>\n",
       "      <td>TID001</td>\n",
       "      <td>HAWT</td>\n",
       "      <td>78.0</td>\n",
       "      <td>71.0</td>\n",
       "      <td>30.0</td>\n",
       "      <td>11.0</td>\n",
       "      <td>66.0</td>\n",
       "      <td>79.0</td>\n",
       "      <td>1.0</td>\n",
       "      <td>81.0</td>\n",
       "      <td>SW</td>\n",
       "      <td>no</td>\n",
       "    </tr>\n",
       "    <tr>\n",
       "      <th>6</th>\n",
       "      <td>TID009</td>\n",
       "      <td>HAWT</td>\n",
       "      <td>80.0</td>\n",
       "      <td>25.0</td>\n",
       "      <td>37.0</td>\n",
       "      <td>31.0</td>\n",
       "      <td>40.0</td>\n",
       "      <td>75.0</td>\n",
       "      <td>4.0</td>\n",
       "      <td>56.0</td>\n",
       "      <td>NW</td>\n",
       "      <td>no</td>\n",
       "    </tr>\n",
       "    <tr>\n",
       "      <th>7</th>\n",
       "      <td>TID002</td>\n",
       "      <td>VAWT</td>\n",
       "      <td>59.0</td>\n",
       "      <td>29.0</td>\n",
       "      <td>37.0</td>\n",
       "      <td>10.0</td>\n",
       "      <td>25.0</td>\n",
       "      <td>83.0</td>\n",
       "      <td>13.0</td>\n",
       "      <td>55.0</td>\n",
       "      <td>SE</td>\n",
       "      <td>no</td>\n",
       "    </tr>\n",
       "  </tbody>\n",
       "</table>\n",
       "</div>"
      ],
      "text/plain": [
       "  turbine_id turbine_type  wind_speed  rpm_blade  oil_temperature  oil_level  \\\n",
       "0     TID003         HAWT        80.0       61.0              NaN       34.0   \n",
       "1     TID010         HAWT        85.0       78.0             36.0       28.0   \n",
       "2     TID007         HAWT        47.0       31.0             31.0       23.0   \n",
       "3     TID008         VAWT        73.0       70.0             38.0        8.0   \n",
       "4     TID003         HAWT        16.0       23.0             46.0        9.0   \n",
       "5     TID001         HAWT        78.0       71.0             30.0       11.0   \n",
       "6     TID009         HAWT        80.0       25.0             37.0       31.0   \n",
       "7     TID002         VAWT        59.0       29.0             37.0       10.0   \n",
       "\n",
       "   temperature  humidity  vibrations_frequency  pressure wind_direction  \\\n",
       "0         33.0      26.0                   1.0      77.0              E   \n",
       "1         35.0      43.0                  15.0      62.0             NE   \n",
       "2         46.0      62.0                  15.0      32.0              N   \n",
       "3         17.0      66.0                   6.0      80.0             SW   \n",
       "4         76.0      53.0                  14.0      29.0              W   \n",
       "5         66.0      79.0                   1.0      81.0             SW   \n",
       "6         40.0      75.0                   4.0      56.0             NW   \n",
       "7         25.0      83.0                  13.0      55.0             SE   \n",
       "\n",
       "  breakdown  \n",
       "0        no  \n",
       "1       yes  \n",
       "2        no  \n",
       "3       yes  \n",
       "4        no  \n",
       "5        no  \n",
       "6        no  \n",
       "7        no  "
      ]
     },
     "execution_count": 24,
     "metadata": {},
     "output_type": "execute_result"
    }
   ],
   "source": [
    "import pyathena\n",
    "from pyathena import connect\n",
    "import pandas as pd\n",
    "\n",
    "conn = connect(s3_staging_dir='s3://{0}/staging/'.format(bucket_name), \n",
    "               region_name='eu-west-1')\n",
    "\n",
    "df = pd.read_sql('SELECT * FROM \"endtoendml-db\".data limit 8;', conn)\n",
    "df\n"
   ]
  },
  {
   "cell_type": "markdown",
   "metadata": {},
   "source": [
    "Another SQL query to count how many records we have"
   ]
  },
  {
   "cell_type": "code",
   "execution_count": 25,
   "metadata": {},
   "outputs": [
    {
     "data": {
      "text/html": [
       "<div>\n",
       "<style scoped>\n",
       "    .dataframe tbody tr th:only-of-type {\n",
       "        vertical-align: middle;\n",
       "    }\n",
       "\n",
       "    .dataframe tbody tr th {\n",
       "        vertical-align: top;\n",
       "    }\n",
       "\n",
       "    .dataframe thead th {\n",
       "        text-align: right;\n",
       "    }\n",
       "</style>\n",
       "<table border=\"1\" class=\"dataframe\">\n",
       "  <thead>\n",
       "    <tr style=\"text-align: right;\">\n",
       "      <th></th>\n",
       "      <th>_col0</th>\n",
       "    </tr>\n",
       "  </thead>\n",
       "  <tbody>\n",
       "    <tr>\n",
       "      <th>0</th>\n",
       "      <td>1000000</td>\n",
       "    </tr>\n",
       "  </tbody>\n",
       "</table>\n",
       "</div>"
      ],
      "text/plain": [
       "     _col0\n",
       "0  1000000"
      ]
     },
     "execution_count": 25,
     "metadata": {},
     "output_type": "execute_result"
    }
   ],
   "source": [
    "pd.read_sql('SELECT COUNT(*) FROM \"endtoendml-db\".data;', conn)"
   ]
  },
  {
   "cell_type": "markdown",
   "metadata": {},
   "source": [
    "Let's try to see what are possible values for the field \"alarm\" and how frequently they occur over the entire dataset"
   ]
  },
  {
   "cell_type": "code",
   "execution_count": 26,
   "metadata": {},
   "outputs": [
    {
     "data": {
      "text/html": [
       "<div>\n",
       "<style scoped>\n",
       "    .dataframe tbody tr th:only-of-type {\n",
       "        vertical-align: middle;\n",
       "    }\n",
       "\n",
       "    .dataframe tbody tr th {\n",
       "        vertical-align: top;\n",
       "    }\n",
       "\n",
       "    .dataframe thead th {\n",
       "        text-align: right;\n",
       "    }\n",
       "</style>\n",
       "<table border=\"1\" class=\"dataframe\">\n",
       "  <thead>\n",
       "    <tr style=\"text-align: right;\">\n",
       "      <th></th>\n",
       "      <th>breakdown</th>\n",
       "      <th>percent</th>\n",
       "    </tr>\n",
       "  </thead>\n",
       "  <tbody>\n",
       "    <tr>\n",
       "      <th>0</th>\n",
       "      <td>yes</td>\n",
       "      <td>13.6579</td>\n",
       "    </tr>\n",
       "    <tr>\n",
       "      <th>1</th>\n",
       "      <td>no</td>\n",
       "      <td>86.3421</td>\n",
       "    </tr>\n",
       "  </tbody>\n",
       "</table>\n",
       "</div>"
      ],
      "text/plain": [
       "  breakdown  percent\n",
       "0       yes  13.6579\n",
       "1        no  86.3421"
      ]
     },
     "execution_count": 26,
     "metadata": {},
     "output_type": "execute_result"
    }
   ],
   "source": [
    "pd.read_sql('SELECT breakdown, (COUNT(breakdown) * 100.0 / (SELECT COUNT(*) FROM \"endtoendml-db\".data)) \\\n",
    "            AS percent FROM \"endtoendml-db\".data GROUP BY breakdown;', conn)\n"
   ]
  },
  {
   "cell_type": "code",
   "execution_count": 36,
   "metadata": {},
   "outputs": [
    {
     "data": {
      "text/html": [
       "<div>\n",
       "<style scoped>\n",
       "    .dataframe tbody tr th:only-of-type {\n",
       "        vertical-align: middle;\n",
       "    }\n",
       "\n",
       "    .dataframe tbody tr th {\n",
       "        vertical-align: top;\n",
       "    }\n",
       "\n",
       "    .dataframe thead th {\n",
       "        text-align: right;\n",
       "    }\n",
       "</style>\n",
       "<table border=\"1\" class=\"dataframe\">\n",
       "  <thead>\n",
       "    <tr style=\"text-align: right;\">\n",
       "      <th></th>\n",
       "      <th>turbine_type</th>\n",
       "    </tr>\n",
       "  </thead>\n",
       "  <tbody>\n",
       "    <tr>\n",
       "      <th>0</th>\n",
       "      <td></td>\n",
       "    </tr>\n",
       "    <tr>\n",
       "      <th>1</th>\n",
       "      <td>VAWT</td>\n",
       "    </tr>\n",
       "    <tr>\n",
       "      <th>2</th>\n",
       "      <td>HAWT</td>\n",
       "    </tr>\n",
       "  </tbody>\n",
       "</table>\n",
       "</div>"
      ],
      "text/plain": [
       "  turbine_type\n",
       "0             \n",
       "1         VAWT\n",
       "2         HAWT"
      ]
     },
     "execution_count": 36,
     "metadata": {},
     "output_type": "execute_result"
    }
   ],
   "source": [
    "pd.read_sql('SELECT DISTINCT(turbine_type) FROM \"endtoendml-db\".data', conn)"
   ]
  },
  {
   "cell_type": "code",
   "execution_count": 33,
   "metadata": {},
   "outputs": [
    {
     "data": {
      "text/html": [
       "<div>\n",
       "<style scoped>\n",
       "    .dataframe tbody tr th:only-of-type {\n",
       "        vertical-align: middle;\n",
       "    }\n",
       "\n",
       "    .dataframe tbody tr th {\n",
       "        vertical-align: top;\n",
       "    }\n",
       "\n",
       "    .dataframe thead th {\n",
       "        text-align: right;\n",
       "    }\n",
       "</style>\n",
       "<table border=\"1\" class=\"dataframe\">\n",
       "  <thead>\n",
       "    <tr style=\"text-align: right;\">\n",
       "      <th></th>\n",
       "      <th>_col0</th>\n",
       "    </tr>\n",
       "  </thead>\n",
       "  <tbody>\n",
       "    <tr>\n",
       "      <th>0</th>\n",
       "      <td>38297</td>\n",
       "    </tr>\n",
       "  </tbody>\n",
       "</table>\n",
       "</div>"
      ],
      "text/plain": [
       "   _col0\n",
       "0  38297"
      ]
     },
     "execution_count": 33,
     "metadata": {},
     "output_type": "execute_result"
    }
   ],
   "source": [
    "pd.read_sql('SELECT COUNT(*) FROM \"endtoendml-db\".data WHERE oil_temperature IS NULL GROUP BY oil_temperature', conn)"
   ]
  },
  {
   "cell_type": "markdown",
   "metadata": {},
   "source": [
    "Now we want to see if there is a correlation between temperature and humidity. To do so we run a SQL query to select only these two columns and populate a Pandas dataframe that we will use for our analysis"
   ]
  },
  {
   "cell_type": "code",
   "execution_count": null,
   "metadata": {},
   "outputs": [],
   "source": [
    "temp_hum_df = pd.read_sql('SELECT temperature, humidity FROM \"endtoendml-db\".data', conn)\n",
    "temp_hum_df.head()"
   ]
  },
  {
   "cell_type": "code",
   "execution_count": null,
   "metadata": {},
   "outputs": [],
   "source": [
    "%matplotlib inline\n",
    "import matplotlib.pyplot as plt\n",
    "plt.scatter(temp_hum_df.temperature, temp_hum_df.humidity)"
   ]
  },
  {
   "cell_type": "code",
   "execution_count": null,
   "metadata": {},
   "outputs": [],
   "source": [
    "plt.hist(temp_hum_df.humidity, bins=10)"
   ]
  },
  {
   "cell_type": "code",
   "execution_count": null,
   "metadata": {},
   "outputs": [],
   "source": [
    "wind_rpm_df = pd.read_sql('SELECT wind_speed, rpm_blade FROM \"endtoendml-db\".data', conn)\n",
    "plt.scatter(wind_rpm_df.wind_speed, wind_rpm_df.rpm_blade)"
   ]
  },
  {
   "cell_type": "markdown",
   "metadata": {},
   "source": [
    "Note: you can go to Amazon Athena console and check for query duration under History tab: usually queries are executed in a few seconds, then it takes a while for pandas to load results into a dataframe"
   ]
  },
  {
   "cell_type": "code",
   "execution_count": null,
   "metadata": {},
   "outputs": [],
   "source": [
    "wind_rpm_df.describe()"
   ]
  },
  {
   "cell_type": "markdown",
   "metadata": {},
   "source": [
    "Now we select our entire dataset and populate a dataframe.  "
   ]
  },
  {
   "cell_type": "code",
   "execution_count": null,
   "metadata": {},
   "outputs": [],
   "source": [
    "df = pd.read_sql('SELECT * FROM \"endtoendml-db\".data;', conn)\n",
    "df.info()"
   ]
  },
  {
   "cell_type": "markdown",
   "metadata": {},
   "source": [
    "You can notice that col4float has some missing values"
   ]
  },
  {
   "cell_type": "code",
   "execution_count": 37,
   "metadata": {},
   "outputs": [
    {
     "data": {
      "text/html": [
       "<div>\n",
       "<style scoped>\n",
       "    .dataframe tbody tr th:only-of-type {\n",
       "        vertical-align: middle;\n",
       "    }\n",
       "\n",
       "    .dataframe tbody tr th {\n",
       "        vertical-align: top;\n",
       "    }\n",
       "\n",
       "    .dataframe thead th {\n",
       "        text-align: right;\n",
       "    }\n",
       "</style>\n",
       "<table border=\"1\" class=\"dataframe\">\n",
       "  <thead>\n",
       "    <tr style=\"text-align: right;\">\n",
       "      <th></th>\n",
       "      <th>turbine_id</th>\n",
       "      <th>turbine_type</th>\n",
       "      <th>wind_speed</th>\n",
       "      <th>rpm_blade</th>\n",
       "      <th>oil_temperature</th>\n",
       "      <th>oil_level</th>\n",
       "      <th>temperature</th>\n",
       "      <th>humidity</th>\n",
       "      <th>vibrations_frequency</th>\n",
       "      <th>pressure</th>\n",
       "      <th>wind_direction</th>\n",
       "      <th>breakdown</th>\n",
       "    </tr>\n",
       "  </thead>\n",
       "  <tbody>\n",
       "    <tr>\n",
       "      <th>count</th>\n",
       "      <td>8</td>\n",
       "      <td>8</td>\n",
       "      <td>8.000000</td>\n",
       "      <td>8.000000</td>\n",
       "      <td>7.000000</td>\n",
       "      <td>8.000000</td>\n",
       "      <td>8.000000</td>\n",
       "      <td>8.000000</td>\n",
       "      <td>8.000000</td>\n",
       "      <td>8.000000</td>\n",
       "      <td>8</td>\n",
       "      <td>8</td>\n",
       "    </tr>\n",
       "    <tr>\n",
       "      <th>unique</th>\n",
       "      <td>7</td>\n",
       "      <td>2</td>\n",
       "      <td>NaN</td>\n",
       "      <td>NaN</td>\n",
       "      <td>NaN</td>\n",
       "      <td>NaN</td>\n",
       "      <td>NaN</td>\n",
       "      <td>NaN</td>\n",
       "      <td>NaN</td>\n",
       "      <td>NaN</td>\n",
       "      <td>7</td>\n",
       "      <td>2</td>\n",
       "    </tr>\n",
       "    <tr>\n",
       "      <th>top</th>\n",
       "      <td>TID003</td>\n",
       "      <td>HAWT</td>\n",
       "      <td>NaN</td>\n",
       "      <td>NaN</td>\n",
       "      <td>NaN</td>\n",
       "      <td>NaN</td>\n",
       "      <td>NaN</td>\n",
       "      <td>NaN</td>\n",
       "      <td>NaN</td>\n",
       "      <td>NaN</td>\n",
       "      <td>SW</td>\n",
       "      <td>no</td>\n",
       "    </tr>\n",
       "    <tr>\n",
       "      <th>freq</th>\n",
       "      <td>2</td>\n",
       "      <td>6</td>\n",
       "      <td>NaN</td>\n",
       "      <td>NaN</td>\n",
       "      <td>NaN</td>\n",
       "      <td>NaN</td>\n",
       "      <td>NaN</td>\n",
       "      <td>NaN</td>\n",
       "      <td>NaN</td>\n",
       "      <td>NaN</td>\n",
       "      <td>2</td>\n",
       "      <td>6</td>\n",
       "    </tr>\n",
       "    <tr>\n",
       "      <th>mean</th>\n",
       "      <td>NaN</td>\n",
       "      <td>NaN</td>\n",
       "      <td>64.750000</td>\n",
       "      <td>48.500000</td>\n",
       "      <td>36.428571</td>\n",
       "      <td>19.250000</td>\n",
       "      <td>42.250000</td>\n",
       "      <td>60.875000</td>\n",
       "      <td>8.625000</td>\n",
       "      <td>59.000000</td>\n",
       "      <td>NaN</td>\n",
       "      <td>NaN</td>\n",
       "    </tr>\n",
       "    <tr>\n",
       "      <th>std</th>\n",
       "      <td>NaN</td>\n",
       "      <td>NaN</td>\n",
       "      <td>23.432273</td>\n",
       "      <td>23.555406</td>\n",
       "      <td>5.255383</td>\n",
       "      <td>10.898886</td>\n",
       "      <td>19.983922</td>\n",
       "      <td>19.430738</td>\n",
       "      <td>6.254998</td>\n",
       "      <td>20.396078</td>\n",
       "      <td>NaN</td>\n",
       "      <td>NaN</td>\n",
       "    </tr>\n",
       "    <tr>\n",
       "      <th>min</th>\n",
       "      <td>NaN</td>\n",
       "      <td>NaN</td>\n",
       "      <td>16.000000</td>\n",
       "      <td>23.000000</td>\n",
       "      <td>30.000000</td>\n",
       "      <td>8.000000</td>\n",
       "      <td>17.000000</td>\n",
       "      <td>26.000000</td>\n",
       "      <td>1.000000</td>\n",
       "      <td>29.000000</td>\n",
       "      <td>NaN</td>\n",
       "      <td>NaN</td>\n",
       "    </tr>\n",
       "    <tr>\n",
       "      <th>25%</th>\n",
       "      <td>NaN</td>\n",
       "      <td>NaN</td>\n",
       "      <td>56.000000</td>\n",
       "      <td>28.000000</td>\n",
       "      <td>33.500000</td>\n",
       "      <td>9.750000</td>\n",
       "      <td>31.000000</td>\n",
       "      <td>50.500000</td>\n",
       "      <td>3.250000</td>\n",
       "      <td>49.250000</td>\n",
       "      <td>NaN</td>\n",
       "      <td>NaN</td>\n",
       "    </tr>\n",
       "    <tr>\n",
       "      <th>50%</th>\n",
       "      <td>NaN</td>\n",
       "      <td>NaN</td>\n",
       "      <td>75.500000</td>\n",
       "      <td>46.000000</td>\n",
       "      <td>37.000000</td>\n",
       "      <td>17.000000</td>\n",
       "      <td>37.500000</td>\n",
       "      <td>64.000000</td>\n",
       "      <td>9.500000</td>\n",
       "      <td>59.000000</td>\n",
       "      <td>NaN</td>\n",
       "      <td>NaN</td>\n",
       "    </tr>\n",
       "    <tr>\n",
       "      <th>75%</th>\n",
       "      <td>NaN</td>\n",
       "      <td>NaN</td>\n",
       "      <td>80.000000</td>\n",
       "      <td>70.250000</td>\n",
       "      <td>37.500000</td>\n",
       "      <td>28.750000</td>\n",
       "      <td>51.000000</td>\n",
       "      <td>76.000000</td>\n",
       "      <td>14.250000</td>\n",
       "      <td>77.750000</td>\n",
       "      <td>NaN</td>\n",
       "      <td>NaN</td>\n",
       "    </tr>\n",
       "    <tr>\n",
       "      <th>max</th>\n",
       "      <td>NaN</td>\n",
       "      <td>NaN</td>\n",
       "      <td>85.000000</td>\n",
       "      <td>78.000000</td>\n",
       "      <td>46.000000</td>\n",
       "      <td>34.000000</td>\n",
       "      <td>76.000000</td>\n",
       "      <td>83.000000</td>\n",
       "      <td>15.000000</td>\n",
       "      <td>81.000000</td>\n",
       "      <td>NaN</td>\n",
       "      <td>NaN</td>\n",
       "    </tr>\n",
       "  </tbody>\n",
       "</table>\n",
       "</div>"
      ],
      "text/plain": [
       "       turbine_id turbine_type  wind_speed  rpm_blade  oil_temperature  \\\n",
       "count           8            8    8.000000   8.000000         7.000000   \n",
       "unique          7            2         NaN        NaN              NaN   \n",
       "top        TID003         HAWT         NaN        NaN              NaN   \n",
       "freq            2            6         NaN        NaN              NaN   \n",
       "mean          NaN          NaN   64.750000  48.500000        36.428571   \n",
       "std           NaN          NaN   23.432273  23.555406         5.255383   \n",
       "min           NaN          NaN   16.000000  23.000000        30.000000   \n",
       "25%           NaN          NaN   56.000000  28.000000        33.500000   \n",
       "50%           NaN          NaN   75.500000  46.000000        37.000000   \n",
       "75%           NaN          NaN   80.000000  70.250000        37.500000   \n",
       "max           NaN          NaN   85.000000  78.000000        46.000000   \n",
       "\n",
       "        oil_level  temperature   humidity  vibrations_frequency   pressure  \\\n",
       "count    8.000000     8.000000   8.000000              8.000000   8.000000   \n",
       "unique        NaN          NaN        NaN                   NaN        NaN   \n",
       "top           NaN          NaN        NaN                   NaN        NaN   \n",
       "freq          NaN          NaN        NaN                   NaN        NaN   \n",
       "mean    19.250000    42.250000  60.875000              8.625000  59.000000   \n",
       "std     10.898886    19.983922  19.430738              6.254998  20.396078   \n",
       "min      8.000000    17.000000  26.000000              1.000000  29.000000   \n",
       "25%      9.750000    31.000000  50.500000              3.250000  49.250000   \n",
       "50%     17.000000    37.500000  64.000000              9.500000  59.000000   \n",
       "75%     28.750000    51.000000  76.000000             14.250000  77.750000   \n",
       "max     34.000000    76.000000  83.000000             15.000000  81.000000   \n",
       "\n",
       "       wind_direction breakdown  \n",
       "count               8         8  \n",
       "unique              7         2  \n",
       "top                SW        no  \n",
       "freq                2         6  \n",
       "mean              NaN       NaN  \n",
       "std               NaN       NaN  \n",
       "min               NaN       NaN  \n",
       "25%               NaN       NaN  \n",
       "50%               NaN       NaN  \n",
       "75%               NaN       NaN  \n",
       "max               NaN       NaN  "
      ]
     },
     "execution_count": 37,
     "metadata": {},
     "output_type": "execute_result"
    }
   ],
   "source": [
    "df.describe(include=['object', 'int64', 'float64'])"
   ]
  },
  {
   "cell_type": "code",
   "execution_count": 38,
   "metadata": {},
   "outputs": [
    {
     "name": "stdout",
     "output_type": "stream",
     "text": [
      "--2019-08-28 13:04:11--  https://s3-us-west-2.amazonaws.com/sparkml-mleap/0.9.6/python/python.zip\n",
      "Resolving s3-us-west-2.amazonaws.com (s3-us-west-2.amazonaws.com)... 52.218.252.56\n",
      "Connecting to s3-us-west-2.amazonaws.com (s3-us-west-2.amazonaws.com)|52.218.252.56|:443... connected.\n",
      "HTTP request sent, awaiting response... 200 OK\n",
      "Length: 36872 (36K) [application/zip]\n",
      "Saving to: ‘python.zip’\n",
      "\n",
      "python.zip          100%[===================>]  36.01K  --.-KB/s    in 0.1s    \n",
      "\n",
      "2019-08-28 13:04:12 (268 KB/s) - ‘python.zip’ saved [36872/36872]\n",
      "\n",
      "--2019-08-28 13:04:12--  https://s3-us-west-2.amazonaws.com/sparkml-mleap/0.9.6/jar/mleap_spark_assembly.jar\n",
      "Resolving s3-us-west-2.amazonaws.com (s3-us-west-2.amazonaws.com)... 52.218.220.184\n",
      "Connecting to s3-us-west-2.amazonaws.com (s3-us-west-2.amazonaws.com)|52.218.220.184|:443... connected.\n",
      "HTTP request sent, awaiting response... 200 OK\n",
      "Length: 17319576 (17M) [application/java-archive]\n",
      "Saving to: ‘mleap_spark_assembly.jar’\n",
      "\n",
      "mleap_spark_assembl 100%[===================>]  16.52M  7.85MB/s    in 2.1s    \n",
      "\n",
      "2019-08-28 13:04:14 (7.85 MB/s) - ‘mleap_spark_assembly.jar’ saved [17319576/17319576]\n",
      "\n"
     ]
    }
   ],
   "source": [
    "!wget https://s3-us-west-2.amazonaws.com/sparkml-mleap/0.9.6/python/python.zip\n",
    "!wget https://s3-us-west-2.amazonaws.com/sparkml-mleap/0.9.6/jar/mleap_spark_assembly.jar"
   ]
  },
  {
   "cell_type": "code",
   "execution_count": 39,
   "metadata": {},
   "outputs": [],
   "source": [
    "s3.Bucket(bucket_name).upload_file('python.zip', 'dependencies/python/python.zip')\n",
    "s3.Bucket(bucket_name).upload_file('mleap_spark_assembly.jar', 'dependencies/jar/mleap_spark_assembly.jar')"
   ]
  },
  {
   "cell_type": "code",
   "execution_count": 43,
   "metadata": {},
   "outputs": [
    {
     "name": "stdout",
     "output_type": "stream",
     "text": [
      "endtoendml-job\n"
     ]
    }
   ],
   "source": [
    "s3.Bucket(bucket_name).upload_file('endtoendml_etl.py', 'code/endtoendml_etl.py')\n",
    "\n",
    "ETLJob = glue_client.create_job(Name='endtoendml-job', \n",
    "                                Role='GlueServiceRole-endtoendml',\n",
    "                                Command={\n",
    "                                    'Name': 'glueetl',\n",
    "                                    'ScriptLocation': 's3://{0}/code/endtoendml_etl.py'.format(bucket_name)\n",
    "                                },\n",
    "                               DefaultArguments={\n",
    "                                   '--job-language': 'python',\n",
    "                                   '--extra-jars' : 's3://{0}/dependencies/jar/mleap_spark_assembly.jar'.format(bucket_name),\n",
    "                                   '--extra-py-files': 's3://{0}/dependencies/python/python.zip'.format(bucket_name)\n",
    "                               })\n",
    "glue_job_name = ETLJob['Name']\n",
    "print(glue_job_name)"
   ]
  },
  {
   "cell_type": "code",
   "execution_count": 44,
   "metadata": {},
   "outputs": [
    {
     "name": "stdout",
     "output_type": "stream",
     "text": [
      "{'JobRunId': 'jr_15fdaa869b9de859992b969795117f2461192cb428295a642ab4845065413db5', 'ResponseMetadata': {'RequestId': 'abfc9269-c994-11e9-8dc2-99edd12b0f5e', 'HTTPStatusCode': 200, 'HTTPHeaders': {'date': 'Wed, 28 Aug 2019 13:06:39 GMT', 'content-type': 'application/x-amz-json-1.1', 'content-length': '82', 'connection': 'keep-alive', 'x-amzn-requestid': 'abfc9269-c994-11e9-8dc2-99edd12b0f5e'}, 'RetryAttempts': 0}}\n"
     ]
    }
   ],
   "source": [
    "JobRun = glue_client.start_job_run(JobName=glue_job_name, \n",
    "                                  Arguments = {'--S3_BUCKET': bucket_name})\n",
    "print(JobRun)\n"
   ]
  },
  {
   "cell_type": "code",
   "execution_count": 45,
   "metadata": {},
   "outputs": [
    {
     "name": "stdout",
     "output_type": "stream",
     "text": [
      "Job status: RUNNING\n",
      "Job status: RUNNING\n",
      "Job status: RUNNING\n",
      "Job status: RUNNING\n",
      "Job status: RUNNING\n",
      "Job status: RUNNING\n",
      "Job status: RUNNING\n",
      "Job status: RUNNING\n",
      "Job status: RUNNING\n",
      "Job status: RUNNING\n",
      "Job status: RUNNING\n",
      "Job status: RUNNING\n",
      "Job status: RUNNING\n",
      "Job status: RUNNING\n",
      "Job status: RUNNING\n",
      "Job status: RUNNING\n",
      "Job status: RUNNING\n",
      "Job status: RUNNING\n",
      "Job status: RUNNING\n",
      "Job status: RUNNING\n",
      "Job status: RUNNING\n",
      "Job status: RUNNING\n",
      "Job status: RUNNING\n",
      "Job status: RUNNING\n",
      "Job status: RUNNING\n",
      "Job status: RUNNING\n",
      "Job status: RUNNING\n",
      "Job status: RUNNING\n",
      "Job status: RUNNING\n",
      "SUCCEEDED\n"
     ]
    }
   ],
   "source": [
    "status = glue_client.get_job_run(JobName=ETLJob['Name'], RunId=JobRun['JobRunId'])\n",
    "while status['JobRun']['JobRunState'] not in ('FAILED', 'SUCCEEDED', 'STOPPED'):\n",
    "    print('Job status: ' + status['JobRun']['JobRunState'])\n",
    "    time.sleep(30)\n",
    "    status = glue_client.get_job_run(JobName=ETLJob['Name'], RunId=JobRun['JobRunId'])\n",
    "\n",
    "print(status['JobRun']['JobRunState'])\n",
    "    \n",
    "#This will take around 15 minutes"
   ]
  },
  {
   "cell_type": "code",
   "execution_count": null,
   "metadata": {},
   "outputs": [],
   "source": []
  }
 ],
 "metadata": {
  "kernelspec": {
   "display_name": "conda_python3",
   "language": "python",
   "name": "conda_python3"
  },
  "language_info": {
   "codemirror_mode": {
    "name": "ipython",
    "version": 3
   },
   "file_extension": ".py",
   "mimetype": "text/x-python",
   "name": "python",
   "nbconvert_exporter": "python",
   "pygments_lexer": "ipython3",
   "version": "3.6.5"
  }
 },
 "nbformat": 4,
 "nbformat_minor": 2
}
